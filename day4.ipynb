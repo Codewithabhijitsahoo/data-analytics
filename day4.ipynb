{
 "cells": [
  {
   "cell_type": "markdown",
   "id": "26bf6e9c-ecca-4dc9-a7bb-22f265cea74c",
   "metadata": {},
   "source": [
    "# loop"
   ]
  },
  {
   "cell_type": "markdown",
   "id": "c4f079e8-5007-4eca-b652-163568f328db",
   "metadata": {},
   "source": [
    "something that repeats continuously"
   ]
  },
  {
   "cell_type": "markdown",
   "id": "8aa21e69-c667-4f69-bb6e-262f134311cc",
   "metadata": {},
   "source": [
    "1. while  loop\n",
    "\n",
    "2. for loop"
   ]
  },
  {
   "cell_type": "markdown",
   "id": "2e94dc5e-d31c-4f18-bebb-8218ef481ea3",
   "metadata": {},
   "source": [
    "# while loop"
   ]
  },
  {
   "cell_type": "markdown",
   "id": "e0978acf-7242-434e-8395-36aad8584e58",
   "metadata": {},
   "source": [
    "python while loop is used to run a block ocode until a certain condition is met\n",
    "\n",
    "syntax :\n",
    "\n",
    "  initialization \n",
    "  \n",
    "while condition :\n",
    "\n",
    "    # body \n",
    "    \n",
    "    -----\n",
    "    \n",
    "    -----\n",
    "    \n",
    "    inc/ dec\n",
    "    "
   ]
  },
  {
   "cell_type": "code",
   "execution_count": 4,
   "id": "99f3fc03-c2f9-4f81-88c3-88fe0729c805",
   "metadata": {},
   "outputs": [
    {
     "name": "stdout",
     "output_type": "stream",
     "text": [
      "1\n",
      "2\n",
      "3\n",
      "4\n",
      "5\n"
     ]
    }
   ],
   "source": [
    "# ex\n",
    "i=1       #initilization \n",
    "while i<=5:  # while condition \n",
    "    \n",
    "    print(i) # body\n",
    "    \n",
    "    i+=1     #inc/dec"
   ]
  },
  {
   "cell_type": "code",
   "execution_count": 7,
   "id": "79c63c65-7579-4ade-9113-f068349a1281",
   "metadata": {},
   "outputs": [
    {
     "name": "stdout",
     "output_type": "stream",
     "text": [
      "1 2 3 4 5 6 7 8 9 10 11 12 13 14 15 16 17 18 19 20 21 22 23 24 25 26 27 28 29 30 31 32 33 34 35 36 37 38 39 40 41 42 43 44 45 46 47 48 49 50 51 52 53 54 55 56 57 58 59 60 61 62 63 64 65 66 67 68 69 70 71 72 73 74 75 76 77 78 79 80 81 82 83 84 85 86 87 88 89 90 91 92 93 94 95 96 97 98 99 100 "
     ]
    }
   ],
   "source": [
    "# ex\n",
    "i=1        \n",
    "while i<=100: \n",
    "    \n",
    "    print(i,end=\" \") \n",
    "    \n",
    "    i+=1     \n"
   ]
  },
  {
   "cell_type": "markdown",
   "id": "0132032d-f353-4035-a3f5-b871e875b053",
   "metadata": {},
   "source": [
    "# q wapp to print all numbers present 1 to 50 in reverse "
   ]
  },
  {
   "cell_type": "code",
   "execution_count": 8,
   "id": "24aca005-d672-41e6-a01d-1f437c8bc471",
   "metadata": {},
   "outputs": [
    {
     "name": "stdout",
     "output_type": "stream",
     "text": [
      "50 49 48 47 46 45 44 43 42 41 40 39 38 37 36 35 34 33 32 31 30 29 28 27 26 25 24 23 22 21 20 19 18 17 16 15 14 13 12 11 10 9 8 7 6 5 4 3 2 1 0 "
     ]
    }
   ],
   "source": [
    "i=50        \n",
    "while i>=0: \n",
    "    \n",
    "    print(i,end=\" \") \n",
    "    \n",
    "    i-=1     "
   ]
  },
  {
   "cell_type": "markdown",
   "id": "9f02956e-9d88-4dc1-a5d5-1b6d4e4aa25a",
   "metadata": {},
   "source": [
    "# q wapp to print all the even number from 1 to 100 without using any condition"
   ]
  },
  {
   "cell_type": "code",
   "execution_count": 10,
   "id": "9d9181ca-9493-44bd-baa5-8830d1500047",
   "metadata": {},
   "outputs": [
    {
     "name": "stdout",
     "output_type": "stream",
     "text": [
      "2 4 6 8 10 12 14 16 18 20 22 24 26 28 30 32 34 36 38 40 42 44 46 48 50 52 54 56 58 60 62 64 66 68 70 72 74 76 78 80 82 84 86 88 90 92 94 96 98 100 "
     ]
    }
   ],
   "source": [
    "i=2\n",
    "while i<=100:\n",
    "    print(i,end=\" \")\n",
    "    i+=2"
   ]
  },
  {
   "cell_type": "markdown",
   "id": "9fe60db0-ad9f-4847-ae5d-db9ceec463bd",
   "metadata": {},
   "source": [
    "\n",
    "# q.wapp to print all the even number from 1 to 100 with condition"
   ]
  },
  {
   "cell_type": "code",
   "execution_count": 13,
   "id": "57fcbf30-b7d6-4a48-84de-4e84f9f6b165",
   "metadata": {},
   "outputs": [
    {
     "name": "stdout",
     "output_type": "stream",
     "text": [
      "2 4 6 8 10 12 14 16 18 20 22 24 26 28 30 32 34 36 38 40 42 44 46 48 50 52 54 56 58 60 62 64 66 68 70 72 74 76 78 80 82 84 86 88 90 92 94 96 98 100 "
     ]
    }
   ],
   "source": [
    "i=1\n",
    "while i<=100:\n",
    "    if i %2==0:\n",
    "        print(i,end=\" \")\n",
    "    i+=1"
   ]
  },
  {
   "cell_type": "markdown",
   "id": "85777618-c746-4c61-9df0-c83e030864b5",
   "metadata": {},
   "source": [
    "\n",
    "# wapp to print the odd number from 200 to 500"
   ]
  },
  {
   "cell_type": "code",
   "execution_count": 15,
   "id": "7f99737c-2b2e-42a8-9512-9a6041dad323",
   "metadata": {},
   "outputs": [
    {
     "name": "stdout",
     "output_type": "stream",
     "text": [
      "201 203 205 207 209 211 213 215 217 219 221 223 225 227 229 231 233 235 237 239 241 243 245 247 249 251 253 255 257 259 261 263 265 267 269 271 273 275 277 279 281 283 285 287 289 291 293 295 297 299 301 303 305 307 309 311 313 315 317 319 321 323 325 327 329 331 333 335 337 339 341 343 345 347 349 351 353 355 357 359 361 363 365 367 369 371 373 375 377 379 381 383 385 387 389 391 393 395 397 399 401 403 405 407 409 411 413 415 417 419 421 423 425 427 429 431 433 435 437 439 441 443 445 447 449 451 453 455 457 459 461 463 465 467 469 471 473 475 477 479 481 483 485 487 489 491 493 495 497 499 "
     ]
    }
   ],
   "source": [
    "i=200\n",
    "while i<=500:\n",
    "    if not i %2==0:\n",
    "        print(i,end=\" \")\n",
    "    i+=1"
   ]
  },
  {
   "cell_type": "code",
   "execution_count": null,
   "id": "a85b3f00-bd9f-472e-87b1-13261b5ada5d",
   "metadata": {},
   "outputs": [],
   "source": []
  },
  {
   "cell_type": "markdown",
   "id": "c411760f-ad6b-4c9d-bfce-77f3567ef290",
   "metadata": {},
   "source": [
    "# q wapp to print the table of a given number\n"
   ]
  },
  {
   "cell_type": "code",
   "execution_count": 5,
   "id": "398fa0a0-043d-4bfd-a85f-f4cb8d73c280",
   "metadata": {},
   "outputs": [
    {
     "name": "stdin",
     "output_type": "stream",
     "text": [
      "enter a number  5\n"
     ]
    },
    {
     "name": "stdout",
     "output_type": "stream",
     "text": [
      "1 x 5=5\n",
      "2 x 5=10\n",
      "3 x 5=15\n",
      "4 x 5=20\n",
      "5 x 5=25\n",
      "6 x 5=30\n",
      "7 x 5=35\n",
      "8 x 5=40\n",
      "9 x 5=45\n",
      "10 x 5=50\n"
     ]
    }
   ],
   "source": [
    "x=int(input(\"enter a number \"))\n",
    "i=1\n",
    "while i<=10:\n",
    "    print(f\"{i} x {x}={i*x}\")\n",
    "    i+=1"
   ]
  },
  {
   "cell_type": "markdown",
   "id": "e1b8f103-bf10-408a-8c1e-35c50373bbd2",
   "metadata": {},
   "source": [
    "# q. recieve only scissor ,rock,  papper as input from user and print the value \n",
    "\n",
    "# if input is other than scissor , rock ,paper then as the user for again input"
   ]
  },
  {
   "cell_type": "code",
   "execution_count": 3,
   "id": "78cc528c-20c1-4961-9cf9-d4541bad648d",
   "metadata": {},
   "outputs": [
    {
     "name": "stdin",
     "output_type": "stream",
     "text": [
      "Enter scissor, rock, or paper:  lol\n"
     ]
    },
    {
     "name": "stdout",
     "output_type": "stream",
     "text": [
      "Invalid input! Please enter scissor, rock, or paper only.\n"
     ]
    },
    {
     "name": "stdin",
     "output_type": "stream",
     "text": [
      "Enter scissor, rock, or paper:  rock\n"
     ]
    },
    {
     "name": "stdout",
     "output_type": "stream",
     "text": [
      "You entered: rock\n"
     ]
    }
   ],
   "source": [
    "items = [\"scissor\", \"rock\", \"paper\"]\n",
    "i=0\n",
    "while i!=8:\n",
    "    x = input(\"Enter scissor, rock, or paper: \").lower()\n",
    "    if x in items:\n",
    "        print(\"You entered:\", x)\n",
    "        break\n",
    "    else:\n",
    "        print(\"Invalid input! Please enter scissor, rock, or paper only.\")"
   ]
  },
  {
   "cell_type": "code",
   "execution_count": null,
   "id": "5137e511-3237-4ff7-8cd9-9c5552f3f9e4",
   "metadata": {},
   "outputs": [],
   "source": []
  },
  {
   "cell_type": "markdown",
   "id": "2e57887c-3845-4d4c-8e11-36b1af0ef5ee",
   "metadata": {},
   "source": [
    " # for loop"
   ]
  },
  {
   "cell_type": "markdown",
   "id": "2ad1f771-93e0-4d1a-9f0c-a420cd0ffb14",
   "metadata": {},
   "source": [
    "a for loop is used for itreating over a sequence (that is either a list, a tuple , a dict, a set , a string )\n",
    "\n",
    "with the for loop we can excute a set of statments , once for each item in list , tuple , set ,etc \n",
    "\n",
    "\n",
    "syntax :\n",
    "\n",
    "  for i in collection :\n",
    "\n",
    "      #body of for"
   ]
  },
  {
   "cell_type": "code",
   "execution_count": 7,
   "id": "aa3c49c6-40bf-4b30-8d11-c123cfacce2e",
   "metadata": {},
   "outputs": [
    {
     "name": "stdout",
     "output_type": "stream",
     "text": [
      "a e r o p l a n e "
     ]
    }
   ],
   "source": [
    "#ex\n",
    "\n",
    "for i in \"aeroplane\":\n",
    "    print(i,end=\" \")"
   ]
  },
  {
   "cell_type": "code",
   "execution_count": 9,
   "id": "62fe2f8d-4755-43c8-98a6-6080fcee2b11",
   "metadata": {},
   "outputs": [
    {
     "name": "stdout",
     "output_type": "stream",
     "text": [
      "1 2 3 4 5 "
     ]
    }
   ],
   "source": [
    "#ex\n",
    "for i in [1,2,3,4,5]:\n",
    "    print(i,end=\" \")"
   ]
  },
  {
   "cell_type": "markdown",
   "id": "eb999d5a-a7d0-43c6-aa3e-3441a1ef0e1b",
   "metadata": {},
   "source": [
    "# range ():\n"
   ]
  },
  {
   "cell_type": "markdown",
   "id": "3af7d550-c4a5-4d23-86be-a4ac6e443e27",
   "metadata": {},
   "source": [
    "it is a built in function generates a sequence of integers bet. any given interval\n",
    "\n",
    "syntax:\n",
    "\n",
    " range(start,stop+1,step)"
   ]
  },
  {
   "cell_type": "code",
   "execution_count": 10,
   "id": "b7828412-6bdb-4ec0-b9bf-126b57887370",
   "metadata": {},
   "outputs": [
    {
     "name": "stdout",
     "output_type": "stream",
     "text": [
      "1 3 5 7 9 11 13 15 17 19 21 23 25 27 29 31 33 35 37 39 41 43 45 47 49 "
     ]
    }
   ],
   "source": [
    "#ex\n",
    "for i in range(1,51,2):\n",
    "    print(i,end=\" \")"
   ]
  },
  {
   "cell_type": "code",
   "execution_count": 11,
   "id": "40dfd0be-3191-41a0-b4a5-86ba39b92f72",
   "metadata": {},
   "outputs": [
    {
     "name": "stdout",
     "output_type": "stream",
     "text": [
      "50 48 46 44 42 40 38 36 34 32 30 28 26 24 22 20 18 16 14 12 10 8 6 4 2 "
     ]
    }
   ],
   "source": [
    "# ex\n",
    "\n",
    "for i in range(50,1,-2):\n",
    "    print(i,end=\" \")"
   ]
  },
  {
   "cell_type": "markdown",
   "id": "4d4dd006-dc9c-48db-bb04-88b2383e0dec",
   "metadata": {},
   "source": [
    "# q. wapp to find all the numbers that are divisible by 5 lies bet the range 100 - 200"
   ]
  },
  {
   "cell_type": "code",
   "execution_count": 14,
   "id": "5c7a47f5-a01e-407e-908f-87a10596897a",
   "metadata": {},
   "outputs": [
    {
     "name": "stdout",
     "output_type": "stream",
     "text": [
      "the number is 100\n",
      "the number is 105\n",
      "the number is 110\n",
      "the number is 115\n",
      "the number is 120\n",
      "the number is 125\n",
      "the number is 130\n",
      "the number is 135\n",
      "the number is 140\n",
      "the number is 145\n",
      "the number is 150\n",
      "the number is 155\n",
      "the number is 160\n",
      "the number is 165\n",
      "the number is 170\n",
      "the number is 175\n",
      "the number is 180\n",
      "the number is 185\n",
      "the number is 190\n",
      "the number is 195\n",
      "the number is 200\n"
     ]
    }
   ],
   "source": [
    "for i in range(100,200+1):\n",
    "    if i%5==0:\n",
    "        print(f\"the number is {i}\")"
   ]
  },
  {
   "cell_type": "code",
   "execution_count": 35,
   "id": "1b5b408e-1397-47a7-953f-e45c795f0184",
   "metadata": {},
   "outputs": [
    {
     "name": "stdout",
     "output_type": "stream",
     "text": [
      "the even number  [16, 44, 90, 56, 78, 98, 76]\n",
      "the odd number is  [11, 13, 87, 41, 51, 5, 16, 44, 90, 3, 23, 56, 78, 33, 98, 76, 99]\n"
     ]
    }
   ],
   "source": [
    "# q. wapp to find the number of even and odd numbers from a series numberes\n",
    "series=[11,13,87,41,51,5,16,44,90,3,23,56,78,33,98,76,99]\n",
    "odd=[]\n",
    "even=[]\n",
    "for i in series:\n",
    "    if i%2==0:\n",
    "        even.append(i)\n",
    "    odd.append(i)\n",
    "\n",
    "print(\"the even number \",even)\n",
    "\n",
    "print(\"the odd number is \",odd)\n"
   ]
  },
  {
   "cell_type": "markdown",
   "id": "4134c9df-d485-4df9-bfb8-9bd70cdcb412",
   "metadata": {},
   "source": [
    "# q. wapp to  multiplication print the table using for loop"
   ]
  },
  {
   "cell_type": "code",
   "execution_count": 29,
   "id": "0e8df294-3e46-43df-9f1f-1c9637aeb53b",
   "metadata": {},
   "outputs": [
    {
     "name": "stdin",
     "output_type": "stream",
     "text": [
      "enter the number  7\n"
     ]
    },
    {
     "name": "stdout",
     "output_type": "stream",
     "text": [
      "1 x 7 =7\n",
      "2 x 7 =14\n",
      "3 x 7 =21\n",
      "4 x 7 =28\n",
      "5 x 7 =35\n",
      "6 x 7 =42\n",
      "7 x 7 =49\n",
      "8 x 7 =56\n",
      "9 x 7 =63\n",
      "10 x 7 =70\n"
     ]
    }
   ],
   "source": [
    "x=int(input(\"enter the number \"))\n",
    "for i in range(1,11):\n",
    "    print(f\"{i} x {x} ={i*x}\")"
   ]
  },
  {
   "cell_type": "markdown",
   "id": "f3504682-55c2-45ef-b090-8a16f93b0ebd",
   "metadata": {},
   "source": [
    "# q. wapp to enter any string and print the vowels present in the string\n"
   ]
  },
  {
   "cell_type": "code",
   "execution_count": 2,
   "id": "dbf8cee1-2b3b-4a80-b9a5-5e983fd3db85",
   "metadata": {},
   "outputs": [
    {
     "name": "stdin",
     "output_type": "stream",
     "text": [
      "enter a string: abhijit\n"
     ]
    },
    {
     "name": "stdout",
     "output_type": "stream",
     "text": [
      "VOWEL PRESENT a\n",
      "VOWEL PRESENT i\n",
      "VOWEL PRESENT i\n"
     ]
    }
   ],
   "source": [
    "vowel=['a','e','i','o','u']\n",
    "x=list(input(\"enter a string:\")) \n",
    "\n",
    "for j in range (0, len(x)):\n",
    "    for i in range(0, len(vowel)): \n",
    "        if x[j]==vowel[i]:\n",
    "          print(\"VOWEL PRESENT\",vowel[i])\n"
   ]
  },
  {
   "cell_type": "code",
   "execution_count": 5,
   "id": "21a99e96-cd20-4178-bfc7-05efbc0d7cb5",
   "metadata": {},
   "outputs": [
    {
     "name": "stdin",
     "output_type": "stream",
     "text": [
      "enter a string: abhijit \n"
     ]
    },
    {
     "name": "stdout",
     "output_type": "stream",
     "text": [
      "vowel is present  a\n",
      "vowel is present  i\n",
      "vowel is present  i\n"
     ]
    }
   ],
   "source": [
    "vowel=['a','e','i','o','u']\n",
    "x=input(\"enter a string:\")\n",
    "for char in x:\n",
    "    if char in vowel:\n",
    "        print(\"vowel is present \",char)"
   ]
  },
  {
   "cell_type": "markdown",
   "id": "2cab74ab-ff48-474c-a3a3-7e8cc66a2146",
   "metadata": {},
   "source": [
    "# Q. wapp that accepts a word from the user and reverse it"
   ]
  },
  {
   "cell_type": "code",
   "execution_count": 18,
   "id": "d7e250b8-1320-4037-8fa9-d2c0b2bf8898",
   "metadata": {},
   "outputs": [
    {
     "name": "stdin",
     "output_type": "stream",
     "text": [
      "enter a word: abhijit\n"
     ]
    },
    {
     "name": "stdout",
     "output_type": "stream",
     "text": [
      "tijihb\n"
     ]
    }
   ],
   "source": [
    "x=input(\"enter a word:\")\n",
    "list=[]\n",
    "for i in range(len(x)-1,0,-1):\n",
    "    \n",
    "    list.append(x[i])\n",
    "\n",
    "print(\"\".join(list))\n",
    "    \n",
    "    "
   ]
  },
  {
   "cell_type": "markdown",
   "id": "6d754ada-608c-46a7-a0b6-9dfeaad85fff",
   "metadata": {},
   "source": [
    "# Q. wapp to count the no. of digits and alphabets present inside the entered string"
   ]
  },
  {
   "cell_type": "code",
   "execution_count": 19,
   "id": "040a8cdf-8f5f-46c9-a7f6-839c9eba4b75",
   "metadata": {},
   "outputs": [
    {
     "name": "stdin",
     "output_type": "stream",
     "text": [
      "Enter a string:  abhi2jit4\n"
     ]
    },
    {
     "name": "stdout",
     "output_type": "stream",
     "text": [
      "Number of digits: 2\n",
      "Number of alphabets: 7\n"
     ]
    }
   ],
   "source": [
    "x = input(\"Enter a string: \")\n",
    "\n",
    "count_digits = 0\n",
    "count_letters = 0\n",
    "\n",
    "for char in x:\n",
    "    if char.isdigit():\n",
    "        count_digits += 1\n",
    "    elif char.isalpha():\n",
    "        count_letters += 1\n",
    "\n",
    "print(\"Number of digits:\", count_digits)\n",
    "print(\"Number of alphabets:\", count_letters)\n",
    "\n",
    "\n"
   ]
  },
  {
   "cell_type": "code",
   "execution_count": null,
   "id": "f3bb78d1-47c6-4a72-9ac2-57d03e24eba3",
   "metadata": {},
   "outputs": [],
   "source": []
  },
  {
   "cell_type": "code",
   "execution_count": null,
   "id": "fcd92dd8-fb47-41ca-9c89-bfb2b0039483",
   "metadata": {},
   "outputs": [],
   "source": []
  },
  {
   "cell_type": "code",
   "execution_count": null,
   "id": "7f12760d-7d58-408a-be51-a3e4b822f352",
   "metadata": {},
   "outputs": [],
   "source": []
  }
 ],
 "metadata": {
  "kernelspec": {
   "display_name": "Python 3 (ipykernel)",
   "language": "python",
   "name": "python3"
  },
  "language_info": {
   "codemirror_mode": {
    "name": "ipython",
    "version": 3
   },
   "file_extension": ".py",
   "mimetype": "text/x-python",
   "name": "python",
   "nbconvert_exporter": "python",
   "pygments_lexer": "ipython3",
   "version": "3.12.7"
  }
 },
 "nbformat": 4,
 "nbformat_minor": 5
}
