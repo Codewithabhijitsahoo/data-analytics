{
 "cells": [
  {
   "cell_type": "code",
   "execution_count": 1,
   "id": "d385213f-871d-4c67-9575-93fd462a230e",
   "metadata": {},
   "outputs": [
    {
     "name": "stdout",
     "output_type": "stream",
     "text": [
      "HELLO WOLRD \n"
     ]
    }
   ],
   "source": [
    "print(\"HELLO WOLRD \")\n"
   ]
  },
  {
   "cell_type": "code",
   "execution_count": 2,
   "id": "b70b49c0-d85a-4a9d-85ca-1eaf7a9ef2d4",
   "metadata": {},
   "outputs": [],
   "source": [
    "#this my comments\n"
   ]
  },
  {
   "cell_type": "code",
   "execution_count": 3,
   "id": "d4490ebb-0a4e-4c6d-b4f6-071c7688844f",
   "metadata": {},
   "outputs": [
    {
     "name": "stdout",
     "output_type": "stream",
     "text": [
      "13\n"
     ]
    }
   ],
   "source": [
    "a=5\n",
    "b=8\n",
    "print(a+b)"
   ]
  },
  {
   "cell_type": "code",
   "execution_count": 7,
   "id": "ab5b16d0-e1bf-4480-a7f6-5631ee3a4db2",
   "metadata": {},
   "outputs": [
    {
     "data": {
      "text/plain": [
       "' this first \\n     comment for juypter '"
      ]
     },
     "execution_count": 7,
     "metadata": {},
     "output_type": "execute_result"
    }
   ],
   "source": [
    "\"\"\" this first \n",
    "     comment for juypter \"\"\""
   ]
  },
  {
   "cell_type": "markdown",
   "id": "e440d0b6-25f3-4d42-8e67-394f5d6614a3",
   "metadata": {},
   "source": [
    "# keywords"
   ]
  },
  {
   "cell_type": "markdown",
   "id": "546cc649-1c6b-45db-991c-1f4e34247188",
   "metadata": {},
   "source": [
    "  reserved words or the predefined words in python langauge"
   ]
  },
  {
   "cell_type": "code",
   "execution_count": 8,
   "id": "f65dc9da-e9ea-4c28-8e6f-41b116aa24f7",
   "metadata": {},
   "outputs": [
    {
     "name": "stdout",
     "output_type": "stream",
     "text": [
      "\n",
      "Here is a list of the Python keywords.  Enter any keyword to get more help.\n",
      "\n",
      "False               class               from                or\n",
      "None                continue            global              pass\n",
      "True                def                 if                  raise\n",
      "and                 del                 import              return\n",
      "as                  elif                in                  try\n",
      "assert              else                is                  while\n",
      "async               except              lambda              with\n",
      "await               finally             nonlocal            yield\n",
      "break               for                 not                 \n",
      "\n"
     ]
    }
   ],
   "source": [
    "help('keywords')"
   ]
  },
  {
   "cell_type": "markdown",
   "id": "3fc3a795-e48e-4737-95d6-11e71286e1fb",
   "metadata": {},
   "source": [
    "# identifires"
   ]
  },
  {
   "cell_type": "markdown",
   "id": "2ce846d5-3b26-43b5-b22e-6520b8aa2041",
   "metadata": {},
   "source": [
    " the name  we given to identify a variable , function , class , module or other object"
   ]
  },
  {
   "cell_type": "markdown",
   "id": "87a1e11f-ec7d-49ea-b026-d417d2385aa5",
   "metadata": {},
   "source": [
    "# variables "
   ]
  },
  {
   "cell_type": "markdown",
   "id": "b9392ada-bcd6-42a5-bb73-4453989c4b88",
   "metadata": {},
   "source": [
    "variables are the name given for memory allocations that store some values"
   ]
  },
  {
   "cell_type": "markdown",
   "id": "133d5639-8cd7-4b11-8f3d-be32e739af3d",
   "metadata": {},
   "source": [
    "# data types "
   ]
  },
  {
   "cell_type": "markdown",
   "id": "c020249b-3907-4efb-bb6e-1649bd338841",
   "metadata": {},
   "source": [
    " primary data types ->\n",
    "    int , float , boolean "
   ]
  },
  {
   "cell_type": "markdown",
   "id": "dd86ec1f-9560-4462-90f2-a5f107e13d66",
   "metadata": {},
   "source": [
    "sequential data types--> string , set , tuples , dictonary "
   ]
  },
  {
   "cell_type": "markdown",
   "id": "1590a721-999b-4cf0-b79d-20c5e81633d0",
   "metadata": {},
   "source": [
    "# string"
   ]
  },
  {
   "cell_type": "markdown",
   "id": "7ef6c009-f155-46f0-a1c9-c81859f37365",
   "metadata": {},
   "source": [
    " string are the immutable"
   ]
  },
  {
   "cell_type": "markdown",
   "id": "59800045-00fb-4401-9ebc-5d20cf328581",
   "metadata": {},
   "source": [
    " string are represent  by double quotes"
   ]
  },
  {
   "cell_type": "markdown",
   "id": "76c93081-38d9-44b5-9c01-d0790b079db0",
   "metadata": {},
   "source": [
    "# list"
   ]
  },
  {
   "cell_type": "markdown",
   "id": "9294ae1e-dcbe-4484-80d8-d8b7de46480c",
   "metadata": {},
   "source": [
    " collections of hectrogenous items "
   ]
  },
  {
   "cell_type": "markdown",
   "id": "b06c3f88-df05-43c1-a865-8156bd8c7928",
   "metadata": {},
   "source": [
    "# set"
   ]
  },
  {
   "cell_type": "markdown",
   "id": "628ba7f4-4c8d-4e2a-9efd-59b4d3e0cc84",
   "metadata": {},
   "source": [
    " set is also a mutable"
   ]
  },
  {
   "cell_type": "markdown",
   "id": "0c55ab35-720f-41ac-897d-9e34fc1b3d4f",
   "metadata": {},
   "source": [
    " # tuple"
   ]
  },
  {
   "cell_type": "markdown",
   "id": "c296f776-c0af-44bd-a0b7-017b14f7f434",
   "metadata": {},
   "source": [
    "also immuatble"
   ]
  },
  {
   "cell_type": "markdown",
   "id": "9a769551-0e6c-4c25-b4b6-dcdf0e82b359",
   "metadata": {},
   "source": [
    "# dictonary "
   ]
  },
  {
   "cell_type": "markdown",
   "id": "3c0c77d5-8bef-4ac5-b640-4581498ea43e",
   "metadata": {},
   "source": [
    "represented by qurlly braces \n"
   ]
  },
  {
   "cell_type": "markdown",
   "id": "1578abf8-0ebf-44c4-83e6-314d039fb16d",
   "metadata": {},
   "source": [
    " stored values as key- value pair"
   ]
  },
  {
   "cell_type": "markdown",
   "id": "634026c1-cf74-4e62-9099-ea68faaca6bb",
   "metadata": {},
   "source": [
    "# checking data type"
   ]
  },
  {
   "cell_type": "markdown",
   "id": "dad2aecc-7eb3-4247-bcb7-061c70d8627d",
   "metadata": {},
   "source": [
    "by the help of type() function"
   ]
  },
  {
   "cell_type": "code",
   "execution_count": 12,
   "id": "bb109ca2-39aa-497c-a725-24f4a8227535",
   "metadata": {},
   "outputs": [
    {
     "name": "stdout",
     "output_type": "stream",
     "text": [
      "<class 'int'>\n"
     ]
    }
   ],
   "source": [
    "a=5\n",
    "print(type(a))"
   ]
  },
  {
   "cell_type": "code",
   "execution_count": 13,
   "id": "ff6241b3-6700-48b3-a70f-740e8adfda02",
   "metadata": {},
   "outputs": [
    {
     "name": "stdout",
     "output_type": "stream",
     "text": [
      "<class 'float'>\n"
     ]
    }
   ],
   "source": [
    "a=5.67\n",
    "print(type(a))"
   ]
  },
  {
   "cell_type": "code",
   "execution_count": 14,
   "id": "0085971a-71a8-46bd-964d-eef455a06a3f",
   "metadata": {},
   "outputs": [
    {
     "data": {
      "text/plain": [
       "int"
      ]
     },
     "execution_count": 14,
     "metadata": {},
     "output_type": "execute_result"
    }
   ],
   "source": [
    "a=9\n",
    "type(a)"
   ]
  },
  {
   "cell_type": "code",
   "execution_count": 15,
   "id": "48152a55-6d96-4099-b6fb-7385bfb11a3e",
   "metadata": {},
   "outputs": [
    {
     "data": {
      "text/plain": [
       "str"
      ]
     },
     "execution_count": 15,
     "metadata": {},
     "output_type": "execute_result"
    }
   ],
   "source": [
    "a=\"abhijit sahoo\"\n",
    "type(a)\n"
   ]
  },
  {
   "cell_type": "code",
   "execution_count": 19,
   "id": "6b3cd590-de86-45b1-8d1c-8e018980cffb",
   "metadata": {},
   "outputs": [],
   "source": [
    "a='abhijit'\n",
    "b='.cat'\n",
    "a=a+b"
   ]
  },
  {
   "cell_type": "code",
   "execution_count": 20,
   "id": "9b6c40ee-b5c6-4d66-8b4a-809b605f37f2",
   "metadata": {},
   "outputs": [
    {
     "data": {
      "text/plain": [
       "'abhijit.cat'"
      ]
     },
     "execution_count": 20,
     "metadata": {},
     "output_type": "execute_result"
    }
   ],
   "source": [
    "a"
   ]
  },
  {
   "cell_type": "code",
   "execution_count": 21,
   "id": "93278a00-2c0e-426e-bc77-aac4bcc22985",
   "metadata": {},
   "outputs": [
    {
     "name": "stdout",
     "output_type": "stream",
     "text": [
      "[5, 2, 3]\n"
     ]
    }
   ],
   "source": [
    "k=[1,2,3]\n",
    "k[0]=5\n",
    "print(k)"
   ]
  },
  {
   "cell_type": "code",
   "execution_count": 22,
   "id": "b74779cf-3f1b-4072-b09b-170239749ff2",
   "metadata": {},
   "outputs": [
    {
     "data": {
      "text/plain": [
       "set"
      ]
     },
     "execution_count": 22,
     "metadata": {},
     "output_type": "execute_result"
    }
   ],
   "source": [
    "t={1 ,2 ,4 , \"abhi\"}\n",
    "type(t)\n"
   ]
  },
  {
   "cell_type": "markdown",
   "id": "4ee461e7-60d6-435b-83f0-4b4739e14ce1",
   "metadata": {},
   "source": [
    "t={\n",
    "    1:23,\n",
    "    2:'abhi',\n",
    "}\n",
    "\n",
    "print(t)"
   ]
  },
  {
   "cell_type": "code",
   "execution_count": 24,
   "id": "8f2ebf30-fb2b-4a6d-a951-3219f26b191b",
   "metadata": {},
   "outputs": [
    {
     "data": {
      "text/plain": [
       "tuple"
      ]
     },
     "execution_count": 24,
     "metadata": {},
     "output_type": "execute_result"
    }
   ],
   "source": [
    "tuple=(1,2,34,4.6)\n",
    "type(tuple)"
   ]
  },
  {
   "cell_type": "markdown",
   "id": "de2ba3c4-6cf6-4bbc-985c-f4c11a1b0a73",
   "metadata": {},
   "source": [
    "# user i/p"
   ]
  },
  {
   "cell_type": "code",
   "execution_count": 1,
   "id": "fe8a531b-67e0-4262-a646-52ce895a06ba",
   "metadata": {},
   "outputs": [
    {
     "name": "stdin",
     "output_type": "stream",
     "text": [
      "enter your name  123\n"
     ]
    },
    {
     "name": "stdout",
     "output_type": "stream",
     "text": [
      "123\n"
     ]
    },
    {
     "data": {
      "text/plain": [
       "str"
      ]
     },
     "execution_count": 1,
     "metadata": {},
     "output_type": "execute_result"
    }
   ],
   "source": [
    "t=input(\"enter your name \")\n",
    "print(t)\n",
    "type(t)"
   ]
  },
  {
   "cell_type": "markdown",
   "id": "8219aa15-17b2-46b3-a6a3-724dd3e09a0e",
   "metadata": {},
   "source": [
    "note : input() returns string"
   ]
  },
  {
   "cell_type": "code",
   "execution_count": 3,
   "id": "1958aae8-4922-4a50-841b-d0abe48ed321",
   "metadata": {},
   "outputs": [
    {
     "name": "stdout",
     "output_type": "stream",
     "text": [
      "[1, 2, 33, 44]\n"
     ]
    }
   ],
   "source": [
    "lt=(1,2,33,44)\n",
    "print(list(lt))\n"
   ]
  },
  {
   "cell_type": "markdown",
   "id": "22c4cb8f-ac84-4941-9083-67e787c5b526",
   "metadata": {},
   "source": [
    "# indexixng "
   ]
  },
  {
   "cell_type": "markdown",
   "id": "f6510f3f-e202-407d-a47f-4964ab0b9ad0",
   "metadata": {},
   "source": [
    " indexing is a way through whuch we can access any item in the value "
   ]
  },
  {
   "cell_type": "raw",
   "id": "186f3e1f-f45a-4607-b20f-3c0b07eda2e6",
   "metadata": {},
   "source": [
    " 0   1   2   3   4    5 \n",
    " a   b   c   h   i     j\n",
    "-6  -5  -4 -3  -2    -1"
   ]
  },
  {
   "cell_type": "code",
   "execution_count": 1,
   "id": "f3061882-674a-4251-84f2-b43cbd577597",
   "metadata": {},
   "outputs": [
    {
     "data": {
      "text/plain": [
       "' '"
      ]
     },
     "execution_count": 1,
     "metadata": {},
     "output_type": "execute_result"
    }
   ],
   "source": [
    "x= \"abhi 123\"\n",
    "x[4]\n"
   ]
  },
  {
   "cell_type": "markdown",
   "id": "1b5f4faa-290d-4124-a2a2-ebc1f59eb005",
   "metadata": {},
   "source": [
    "# slicing "
   ]
  },
  {
   "cell_type": "markdown",
   "id": "7d6cd341-1323-4d85-9b65-f70eb490cbe3",
   "metadata": {},
   "source": [
    "slicing is the technique used for take a part from an item"
   ]
  },
  {
   "cell_type": "markdown",
   "id": "9cb099fe-e172-4b28-8319-75bbcbfbd3c8",
   "metadata": {},
   "source": [
    "syntax:"
   ]
  },
  {
   "cell_type": "markdown",
   "id": "8e9bf876-e8da-439b-9db9-877301b534a3",
   "metadata": {},
   "source": [
    "  x[START:END:STEP]"
   ]
  },
  {
   "cell_type": "code",
   "execution_count": 9,
   "id": "6bce34ae-f6ad-4c47-bfa2-57a71604692d",
   "metadata": {},
   "outputs": [
    {
     "name": "stdout",
     "output_type": "stream",
     "text": [
      "rop\n",
      "roplane\n",
      "aerop\n",
      "eo\n"
     ]
    }
   ],
   "source": [
    "x=\"aeroplane\"\n",
    "print(x[2:5])\n",
    "print(x[2:])\n",
    "print(x[:5])\n",
    "print(x[1:4:2])"
   ]
  },
  {
   "cell_type": "code",
   "execution_count": 14,
   "id": "fa96f876-4cc3-4fa4-af0e-d1731737ad41",
   "metadata": {},
   "outputs": [
    {
     "data": {
      "text/plain": [
       "'loet'"
      ]
     },
     "execution_count": 14,
     "metadata": {},
     "output_type": "execute_result"
    }
   ],
   "source": [
    "s1=\"welcome to my  blog\"\n",
    "s1[2:9:2]\n"
   ]
  },
  {
   "cell_type": "code",
   "execution_count": 15,
   "id": "ca3f2a74-661c-44c5-be33-77e62e305050",
   "metadata": {},
   "outputs": [
    {
     "data": {
      "text/plain": [
       "'om lg'"
      ]
     },
     "execution_count": 15,
     "metadata": {},
     "output_type": "execute_result"
    }
   ],
   "source": [
    "s1=\"welcome to my blog\"\n",
    "s1[9:len(s1):2]\n"
   ]
  },
  {
   "cell_type": "markdown",
   "id": "a28c7daa-06c9-4817-9579-ef612972eb70",
   "metadata": {},
   "source": [
    "# string attributes "
   ]
  },
  {
   "cell_type": "markdown",
   "id": "ed547eaa-53d2-476c-a49c-cb8332614b6c",
   "metadata": {},
   "source": [
    "upper()\n",
    "lower()"
   ]
  },
  {
   "cell_type": "code",
   "execution_count": 16,
   "id": "5d2a293f-c558-4c6c-b8cf-8d87e2525380",
   "metadata": {},
   "outputs": [
    {
     "data": {
      "text/plain": [
       "'ABHIJIT'"
      ]
     },
     "execution_count": 16,
     "metadata": {},
     "output_type": "execute_result"
    }
   ],
   "source": [
    "s1=\"abhijit\"\n",
    "s1.upper()"
   ]
  },
  {
   "cell_type": "code",
   "execution_count": 18,
   "id": "ccaf0474-1d92-4968-aaa0-b965f00c194e",
   "metadata": {},
   "outputs": [
    {
     "data": {
      "text/plain": [
       "'abhijit'"
      ]
     },
     "execution_count": 18,
     "metadata": {},
     "output_type": "execute_result"
    }
   ],
   "source": [
    "s1=\"AbHijit\"\n",
    "s1.lower()"
   ]
  },
  {
   "cell_type": "code",
   "execution_count": 19,
   "id": "0b47142a-845a-480b-b87f-27f94382b189",
   "metadata": {
    "scrolled": true
   },
   "outputs": [
    {
     "data": {
      "text/plain": [
       "'aBhIJIT'"
      ]
     },
     "execution_count": 19,
     "metadata": {},
     "output_type": "execute_result"
    }
   ],
   "source": [
    "#swapcase\n",
    "s1=\"AbHijit\"\n",
    "s1.swapcase()"
   ]
  },
  {
   "cell_type": "code",
   "execution_count": 22,
   "id": "94a13f60-adc5-4556-9700-63811c0933e9",
   "metadata": {},
   "outputs": [
    {
     "data": {
      "text/plain": [
       "2"
      ]
     },
     "execution_count": 22,
     "metadata": {},
     "output_type": "execute_result"
    }
   ],
   "source": [
    "#FIND\n",
    "s1=\"AbHijit\"\n",
    "s1.find(\"ji\")\n"
   ]
  },
  {
   "cell_type": "code",
   "execution_count": 24,
   "id": "2967bfcb-52fc-40b5-a728-b0b3008c2015",
   "metadata": {},
   "outputs": [
    {
     "data": {
      "text/plain": [
       "2"
      ]
     },
     "execution_count": 24,
     "metadata": {},
     "output_type": "execute_result"
    }
   ],
   "source": [
    "#COUNT\n",
    "s1=\"AbHijit\"\n",
    "s1.count(\"i\")"
   ]
  },
  {
   "cell_type": "code",
   "execution_count": 25,
   "id": "7818971a-e327-4ca2-9515-3744971bf23c",
   "metadata": {},
   "outputs": [
    {
     "data": {
      "text/plain": [
       "['AbH', 'j', 't']"
      ]
     },
     "execution_count": 25,
     "metadata": {},
     "output_type": "execute_result"
    }
   ],
   "source": [
    "#SPLIT\n",
    "s1=\"AbHijit\"\n",
    "s1.split(\"i\")"
   ]
  },
  {
   "cell_type": "code",
   "execution_count": 26,
   "id": "ea20981a-d511-4ecb-ac21-56968080f3a3",
   "metadata": {},
   "outputs": [
    {
     "data": {
      "text/plain": [
       "['AbHijit', 'sahoo']"
      ]
     },
     "execution_count": 26,
     "metadata": {},
     "output_type": "execute_result"
    }
   ],
   "source": [
    "#SPLIT\n",
    "s1=\"AbHijit sahoo\"\n",
    "s1.split()"
   ]
  },
  {
   "cell_type": "code",
   "execution_count": null,
   "id": "66c97af9-39d2-43d5-bb1f-0053554c7291",
   "metadata": {},
   "outputs": [],
   "source": []
  },
  {
   "cell_type": "code",
   "execution_count": null,
   "id": "a992d234-2e40-46b3-b3f1-031f392a7f48",
   "metadata": {},
   "outputs": [],
   "source": []
  },
  {
   "cell_type": "code",
   "execution_count": null,
   "id": "1a32da24-fd2d-466d-be72-fdd320e184d7",
   "metadata": {},
   "outputs": [],
   "source": []
  }
 ],
 "metadata": {
  "kernelspec": {
   "display_name": "Python 3 (ipykernel)",
   "language": "python",
   "name": "python3"
  },
  "language_info": {
   "codemirror_mode": {
    "name": "ipython",
    "version": 3
   },
   "file_extension": ".py",
   "mimetype": "text/x-python",
   "name": "python",
   "nbconvert_exporter": "python",
   "pygments_lexer": "ipython3",
   "version": "3.12.7"
  }
 },
 "nbformat": 4,
 "nbformat_minor": 5
}
