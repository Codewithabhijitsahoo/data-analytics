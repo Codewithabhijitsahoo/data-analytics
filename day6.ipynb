{
 "cells": [
  {
   "cell_type": "markdown",
   "id": "6bc4cd65-0f30-422b-85d7-7683c49d414e",
   "metadata": {},
   "source": [
    "# Numpy library: numerical python"
   ]
  },
  {
   "cell_type": "markdown",
   "id": "101f3636-592f-4f7d-9795-4eae37521179",
   "metadata": {},
   "source": [
    "NumPy is a popular open-source Python library used for scientific computing and data analysis. \n",
    "\n",
    "Its name stands for Numerical Python.\n",
    "\n",
    "numpy is  a python library using which we can perform different mathematical opearations on arrays "
   ]
  },
  {
   "cell_type": "markdown",
   "id": "3a44958d-83a6-4db1-b6bd-21456c6e0847",
   "metadata": {},
   "source": [
    "# import numpy"
   ]
  },
  {
   "cell_type": "code",
   "execution_count": 2,
   "id": "e6ebf5c7-e9c8-4c94-aaa3-1a62417f4ea8",
   "metadata": {},
   "outputs": [],
   "source": [
    "import numpy as np"
   ]
  },
  {
   "cell_type": "code",
   "execution_count": null,
   "id": "acc7e839-b883-41ce-ba07-9beeaf03d242",
   "metadata": {},
   "outputs": [],
   "source": [
    " "
   ]
  },
  {
   "cell_type": "code",
   "execution_count": 25,
   "id": "5a9fed88-bb97-4848-a8fa-f1fdc2a48ee4",
   "metadata": {},
   "outputs": [
    {
     "name": "stdout",
     "output_type": "stream",
     "text": [
      "<class 'numpy.ndarray'>\n",
      "1\n",
      "[1 2 3 4]\n"
     ]
    }
   ],
   "source": [
    "# creating a array using a numpy library\n",
    "x=np.array([1,2,3,4])\n",
    "print(type(x))\n",
    "print(x.ndim)\n",
    "print(x)"
   ]
  },
  {
   "cell_type": "code",
   "execution_count": 8,
   "id": "0f0d8aab-1b0f-4ea5-bfa1-aeaf4061bf44",
   "metadata": {},
   "outputs": [
    {
     "data": {
      "text/plain": [
       "'1.26.4'"
      ]
     },
     "execution_count": 8,
     "metadata": {},
     "output_type": "execute_result"
    }
   ],
   "source": [
    "# checking the version\n",
    "\n",
    "np.__version__"
   ]
  },
  {
   "cell_type": "code",
   "execution_count": 20,
   "id": "3540bf1e-39a8-4d2c-ac42-c5cf0f770b60",
   "metadata": {},
   "outputs": [
    {
     "name": "stdout",
     "output_type": "stream",
     "text": [
      "2\n"
     ]
    },
    {
     "data": {
      "text/plain": [
       "array([[1, 2, 3, 4],\n",
       "       [5, 6, 7, 8]])"
      ]
     },
     "execution_count": 20,
     "metadata": {},
     "output_type": "execute_result"
    }
   ],
   "source": [
    "# 2d array\n",
    "x=np.array([[1,2,3,4],[5,6,7,8]])\n",
    "print(x.ndim)\n",
    "x"
   ]
  },
  {
   "cell_type": "code",
   "execution_count": 27,
   "id": "c4a994c7-5534-4248-acf3-00e232fc6cbe",
   "metadata": {},
   "outputs": [
    {
     "data": {
      "text/plain": [
       "(2, 4)"
      ]
     },
     "execution_count": 27,
     "metadata": {},
     "output_type": "execute_result"
    }
   ],
   "source": [
    "#shape\n",
    "x=np.array([[1,2,3,4],[5,6,7,8]])\n",
    "x.shape"
   ]
  },
  {
   "cell_type": "code",
   "execution_count": 31,
   "id": "8aed1909-f47c-4445-a9ba-f6f77878436c",
   "metadata": {},
   "outputs": [
    {
     "data": {
      "text/plain": [
       "array([0., 0., 0., 0., 0., 0., 0., 0., 0., 0.])"
      ]
     },
     "execution_count": 31,
     "metadata": {},
     "output_type": "execute_result"
    }
   ],
   "source": [
    "#zeros: return a matrix full of zeros\n",
    "a=np.zeros(10)"
   ]
  },
  {
   "cell_type": "code",
   "execution_count": 36,
   "id": "87b1e06f-d06e-4476-bfe3-8f6c8b8c157f",
   "metadata": {},
   "outputs": [
    {
     "data": {
      "text/plain": [
       "dtype('float64')"
      ]
     },
     "execution_count": 36,
     "metadata": {},
     "output_type": "execute_result"
    }
   ],
   "source": [
    "a=np.zeros(10)\n",
    "a.dtype\n"
   ]
  },
  {
   "cell_type": "code",
   "execution_count": 40,
   "id": "8dae990f-2116-4219-b1cf-f2a7e89c4b30",
   "metadata": {},
   "outputs": [
    {
     "name": "stdout",
     "output_type": "stream",
     "text": [
      "[[[[[1 2 3 4]]]]]\n"
     ]
    }
   ],
   "source": [
    "#creating n dimension\n",
    "x=np.array([1,2,3,4],ndmin=5)\n",
    "print(x)"
   ]
  },
  {
   "cell_type": "code",
   "execution_count": 48,
   "id": "7ef3faf6-8531-4e19-930e-37df0508b7ca",
   "metadata": {},
   "outputs": [
    {
     "name": "stdout",
     "output_type": "stream",
     "text": [
      "2\n",
      "[[0 0 0 0 0]\n",
      " [0 0 0 0 0]\n",
      " [0 0 0 0 0]\n",
      " [0 0 0 0 0]\n",
      " [0 0 0 0 0]]\n",
      "int32\n"
     ]
    }
   ],
   "source": [
    "x=np.zeros((5,5),dtype=int)\n",
    "print(x.ndim)\n",
    "print(x)\n",
    "print(x.dtype)"
   ]
  },
  {
   "cell_type": "code",
   "execution_count": 49,
   "id": "87cc2ae3-aa4a-4250-984d-efcd9e0e27b8",
   "metadata": {},
   "outputs": [
    {
     "data": {
      "text/plain": [
       "array([1., 1., 1., 1., 1., 1., 1., 1., 1., 1.])"
      ]
     },
     "execution_count": 49,
     "metadata": {},
     "output_type": "execute_result"
    }
   ],
   "source": [
    "np.ones(10)"
   ]
  },
  {
   "cell_type": "code",
   "execution_count": 51,
   "id": "2ca8efaa-7c29-44a5-ba7d-5810fa2e1b4f",
   "metadata": {},
   "outputs": [
    {
     "data": {
      "text/plain": [
       "array([[1, 1, 1, 1, 1, 1, 1, 1, 1, 1],\n",
       "       [1, 1, 1, 1, 1, 1, 1, 1, 1, 1],\n",
       "       [1, 1, 1, 1, 1, 1, 1, 1, 1, 1],\n",
       "       [1, 1, 1, 1, 1, 1, 1, 1, 1, 1],\n",
       "       [1, 1, 1, 1, 1, 1, 1, 1, 1, 1],\n",
       "       [1, 1, 1, 1, 1, 1, 1, 1, 1, 1],\n",
       "       [1, 1, 1, 1, 1, 1, 1, 1, 1, 1],\n",
       "       [1, 1, 1, 1, 1, 1, 1, 1, 1, 1],\n",
       "       [1, 1, 1, 1, 1, 1, 1, 1, 1, 1],\n",
       "       [1, 1, 1, 1, 1, 1, 1, 1, 1, 1]], dtype=object)"
      ]
     },
     "execution_count": 51,
     "metadata": {},
     "output_type": "execute_result"
    }
   ],
   "source": [
    "np.ones((10,10),dtype=object)"
   ]
  },
  {
   "cell_type": "code",
   "execution_count": 53,
   "id": "2ee77cb4-1077-4de5-b829-b360150fb629",
   "metadata": {},
   "outputs": [
    {
     "data": {
      "text/plain": [
       "array([[8, 8, 8, 8, 8],\n",
       "       [8, 8, 8, 8, 8],\n",
       "       [8, 8, 8, 8, 8],\n",
       "       [8, 8, 8, 8, 8],\n",
       "       [8, 8, 8, 8, 8]])"
      ]
     },
     "execution_count": 53,
     "metadata": {},
     "output_type": "execute_result"
    }
   ],
   "source": [
    "#full: return a matrix full of any specific number)\n",
    "np.full((5,5),8)"
   ]
  },
  {
   "cell_type": "code",
   "execution_count": 56,
   "id": "8e56b058-2933-48e1-a63c-38309215d55b",
   "metadata": {},
   "outputs": [
    {
     "data": {
      "text/plain": [
       "0.2666180712382633"
      ]
     },
     "execution_count": 56,
     "metadata": {},
     "output_type": "execute_result"
    }
   ],
   "source": [
    "#random numbers\n",
    "np.random.rand()"
   ]
  },
  {
   "cell_type": "code",
   "execution_count": 66,
   "id": "2ba05509-b1e5-4472-a191-49c35f5175d7",
   "metadata": {},
   "outputs": [
    {
     "name": "stdout",
     "output_type": "stream",
     "text": [
      "[0.33245906 0.41089038 0.16126775 0.60877396 0.3215831  0.45650971\n",
      " 0.65214942 0.72255602 0.97685608 0.16325396]\n"
     ]
    }
   ],
   "source": [
    "# return a array of random number bet 0 to 1\n",
    "x=np.random.rand(10)\n",
    "print(x)"
   ]
  },
  {
   "cell_type": "code",
   "execution_count": 63,
   "id": "f34c6735-8b39-4c35-a9e3-7bf36b474569",
   "metadata": {},
   "outputs": [
    {
     "data": {
      "text/plain": [
       "array([0.81280972, 0.60306343, 0.22101706, 0.51370052, 0.03467796,\n",
       "       0.399346  , 0.63665843, 0.03665719, 0.36392977, 0.42136627])"
      ]
     },
     "execution_count": 63,
     "metadata": {},
     "output_type": "execute_result"
    }
   ],
   "source": [
    "x=np.random.rand(10)\n",
    "x"
   ]
  },
  {
   "cell_type": "code",
   "execution_count": 64,
   "id": "f880cbb7-5457-44f1-a1dd-bcbbd7f7f760",
   "metadata": {},
   "outputs": [
    {
     "data": {
      "text/plain": [
       "array([0.69148063, 0.71106472, 0.55108752, 0.39564864, 0.81644781,\n",
       "       0.56246452, 0.13419647, 0.85035706, 0.92263281, 0.89593012])"
      ]
     },
     "execution_count": 64,
     "metadata": {},
     "output_type": "execute_result"
    }
   ],
   "source": [
    "np.random.rand(10)"
   ]
  },
  {
   "cell_type": "code",
   "execution_count": 69,
   "id": "c360934f-04db-41ed-a055-f79b43374b7c",
   "metadata": {},
   "outputs": [
    {
     "data": {
      "text/plain": [
       "array([[0.40195043, 0.70342245, 0.66936617, 0.98055754, 0.27336191],\n",
       "       [0.89205152, 0.40218923, 0.76062786, 0.51149922, 0.9032048 ],\n",
       "       [0.6295844 , 0.21691709, 0.30525102, 0.40004011, 0.34363094],\n",
       "       [0.57169962, 0.09308994, 0.43110993, 0.18111154, 0.28476486]])"
      ]
     },
     "execution_count": 69,
     "metadata": {},
     "output_type": "execute_result"
    }
   ],
   "source": [
    "#return a 2d array of random numbers bet 0 to 1\n",
    "np.random.rand(4,5)"
   ]
  },
  {
   "cell_type": "code",
   "execution_count": 74,
   "id": "a5925f03-c6be-4dfa-9f55-7d29c337dd4d",
   "metadata": {},
   "outputs": [
    {
     "data": {
      "text/plain": [
       "7"
      ]
     },
     "execution_count": 74,
     "metadata": {},
     "output_type": "execute_result"
    }
   ],
   "source": [
    "# return a random number bet 1 to 10\n",
    "\n",
    "np.random.randint(10)"
   ]
  },
  {
   "cell_type": "code",
   "execution_count": 76,
   "id": "35ea4947-f259-4999-a5b2-c15fc0c00d5f",
   "metadata": {},
   "outputs": [
    {
     "data": {
      "text/plain": [
       "16"
      ]
     },
     "execution_count": 76,
     "metadata": {},
     "output_type": "execute_result"
    }
   ],
   "source": [
    "import random as rd\n",
    "x=rd.randint(10,100)\n",
    "x"
   ]
  },
  {
   "cell_type": "code",
   "execution_count": 87,
   "id": "7c3823f7-996e-4ae1-99c6-611e53c941dc",
   "metadata": {},
   "outputs": [
    {
     "data": {
      "text/plain": [
       "array([[36, 45, 92, 57],\n",
       "       [68, 24,  8, 54],\n",
       "       [72, 95, 44, 54]])"
      ]
     },
     "execution_count": 87,
     "metadata": {},
     "output_type": "execute_result"
    }
   ],
   "source": [
    "# return a 2d array between the given interval\n",
    "np.random.randint(4,100,(3,4))"
   ]
  },
  {
   "cell_type": "code",
   "execution_count": 6,
   "id": "ae6c3374-ae31-434a-8c44-27514c3248b1",
   "metadata": {},
   "outputs": [
    {
     "data": {
      "text/plain": [
       "array([[40, 29, 35, 16],\n",
       "       [31, 17, 44, 15],\n",
       "       [ 9,  3, 32, 34],\n",
       "       [29, 46, 28, 40]])"
      ]
     },
     "execution_count": 6,
     "metadata": {},
     "output_type": "execute_result"
    }
   ],
   "source": [
    "#array slicing[row_slicing,column_slicing]\n",
    "#row_slicing: var[start:stop+1:step]\n",
    "#column_slicing: var[start:stop+1:step]\n",
    "import numpy as np\n",
    "k=np.random.randint(1,50,(4,4))\n",
    "k"
   ]
  },
  {
   "cell_type": "code",
   "execution_count": 7,
   "id": "93b39079-df49-4253-9027-2f406aa6fce2",
   "metadata": {},
   "outputs": [
    {
     "data": {
      "text/plain": [
       "array([[40, 29, 35, 16],\n",
       "       [31, 17, 44, 15],\n",
       "       [ 9,  3, 32, 34]])"
      ]
     },
     "execution_count": 7,
     "metadata": {},
     "output_type": "execute_result"
    }
   ],
   "source": [
    "k[0:3,0:4]"
   ]
  },
  {
   "cell_type": "code",
   "execution_count": 8,
   "id": "f1c52320-ba45-4092-9963-987feb861fa7",
   "metadata": {},
   "outputs": [
    {
     "data": {
      "text/plain": [
       "array([[ 7, 24],\n",
       "       [46, 18]])"
      ]
     },
     "execution_count": 8,
     "metadata": {},
     "output_type": "execute_result"
    }
   ],
   "source": [
    "a[0:3:2,0::3]"
   ]
  },
  {
   "cell_type": "code",
   "execution_count": 16,
   "id": "23a2da4d-5b4a-4ef5-a805-d2ffb3fb9c58",
   "metadata": {},
   "outputs": [
    {
     "data": {
      "text/plain": [
       "array([[15, 46,  6, 31, 34,  5, 12],\n",
       "       [45, 25, 44, 21, 31, 10,  1],\n",
       "       [42, 40, 19, 42, 14, 22,  4],\n",
       "       [15, 45, 40,  8, 11, 47,  8],\n",
       "       [15, 27, 16,  3, 32,  8, 40],\n",
       "       [43,  6, 45, 36,  2,  4, 49],\n",
       "       [24, 38, 30, 10, 17,  7, 11]])"
      ]
     },
     "execution_count": 16,
     "metadata": {},
     "output_type": "execute_result"
    }
   ],
   "source": [
    "y=np.random.randint(1,50,(7,7))\n",
    "y"
   ]
  },
  {
   "cell_type": "code",
   "execution_count": 17,
   "id": "7240f399-c37f-4f3a-b966-ab4047f302f4",
   "metadata": {},
   "outputs": [
    {
     "data": {
      "text/plain": [
       "array([[19, 14],\n",
       "       [16, 32]])"
      ]
     },
     "execution_count": 17,
     "metadata": {},
     "output_type": "execute_result"
    }
   ],
   "source": [
    "y[2:5:2,2:5:2]"
   ]
  },
  {
   "cell_type": "code",
   "execution_count": 14,
   "id": "cbf3db40-cb65-4176-b419-0e8747ea03df",
   "metadata": {},
   "outputs": [
    {
     "data": {
      "text/plain": [
       "array([[49, 27,  8, 37, 48, 36, 45],\n",
       "       [29, 17, 28, 26, 10, 38, 12],\n",
       "       [42, 34, 48, 18, 46,  1, 49],\n",
       "       [16, 37, 20, 10, 27, 13, 20],\n",
       "       [42, 10,  5, 42, 37, 44, 25],\n",
       "       [14,  2, 26,  2, 49,  5,  4],\n",
       "       [10, 42, 37, 42, 25,  4, 12]])"
      ]
     },
     "execution_count": 14,
     "metadata": {},
     "output_type": "execute_result"
    }
   ],
   "source": [
    "r=np.random.randint(1,50,(7,7))\n",
    "r"
   ]
  },
  {
   "cell_type": "code",
   "execution_count": 15,
   "id": "27422f2c-d784-4434-aa14-467c629f866d",
   "metadata": {},
   "outputs": [
    {
     "data": {
      "text/plain": [
       "array([[49, 45],\n",
       "       [10, 12]])"
      ]
     },
     "execution_count": 15,
     "metadata": {},
     "output_type": "execute_result"
    }
   ],
   "source": [
    "r[0::6,0::6]"
   ]
  },
  {
   "cell_type": "markdown",
   "id": "3a8be4da-eb21-4c8b-8dae-49b01c90c9f7",
   "metadata": {},
   "source": [
    "# mathematical opearations on numpy"
   ]
  },
  {
   "cell_type": "code",
   "execution_count": 6,
   "id": "4c8c0fce-a45b-4034-961b-30e1a030873b",
   "metadata": {},
   "outputs": [],
   "source": [
    "import numpy as np\n",
    "a=np.array([1,2,3,4,5,6,7,8,9])\n",
    "b=np.array([10,11,12,13,14,15,17,18,19])\n"
   ]
  },
  {
   "cell_type": "code",
   "execution_count": 7,
   "id": "00ddedee-6194-4da4-acd2-0e353c5cf489",
   "metadata": {},
   "outputs": [
    {
     "data": {
      "text/plain": [
       "array([11, 13, 15, 17, 19, 21, 24, 26, 28])"
      ]
     },
     "execution_count": 7,
     "metadata": {},
     "output_type": "execute_result"
    }
   ],
   "source": [
    "#addition\n",
    "np.add(a,b)"
   ]
  },
  {
   "cell_type": "code",
   "execution_count": 10,
   "id": "bfe79953-13d1-4dc6-a584-3c57fb03df8c",
   "metadata": {},
   "outputs": [
    {
     "data": {
      "text/plain": [
       "array([ -9,  -9,  -9,  -9,  -9,  -9, -10, -10, -10])"
      ]
     },
     "execution_count": 10,
     "metadata": {},
     "output_type": "execute_result"
    }
   ],
   "source": [
    "#subtraction\n",
    "np.subtract(a,b)"
   ]
  },
  {
   "cell_type": "code",
   "execution_count": 8,
   "id": "fb87a833-b3e4-4978-ba11-1bd38cc0f94b",
   "metadata": {},
   "outputs": [
    {
     "data": {
      "text/plain": [
       "array([ 10,  22,  36,  52,  70,  90, 119, 144, 171])"
      ]
     },
     "execution_count": 8,
     "metadata": {},
     "output_type": "execute_result"
    }
   ],
   "source": [
    "import numpy as np\n",
    "np.multiply(a,b)"
   ]
  },
  {
   "cell_type": "code",
   "execution_count": 9,
   "id": "474f2418-e949-420a-ae82-2b807bf89a7a",
   "metadata": {},
   "outputs": [
    {
     "data": {
      "text/plain": [
       "array([0.1       , 0.18181818, 0.25      , 0.30769231, 0.35714286,\n",
       "       0.4       , 0.41176471, 0.44444444, 0.47368421])"
      ]
     },
     "execution_count": 9,
     "metadata": {},
     "output_type": "execute_result"
    }
   ],
   "source": [
    "# divide\n",
    "np.divide(a,b)"
   ]
  },
  {
   "cell_type": "code",
   "execution_count": 11,
   "id": "8698d1bc-6e1a-49f6-afa1-2a22c0f60af5",
   "metadata": {},
   "outputs": [
    {
     "data": {
      "text/plain": [
       "array([1, 2, 3, 4, 5, 6, 7, 8, 9])"
      ]
     },
     "execution_count": 11,
     "metadata": {},
     "output_type": "execute_result"
    }
   ],
   "source": [
    "#moduls\n",
    "np.mod(a,b)"
   ]
  },
  {
   "cell_type": "code",
   "execution_count": 12,
   "id": "e57243c3-06a0-4c04-b684-b60aacf8d835",
   "metadata": {},
   "outputs": [
    {
     "data": {
      "text/plain": [
       "(array([0, 0, 0, 0, 0, 0, 0, 0, 0]), array([1, 2, 3, 4, 5, 6, 7, 8, 9]))"
      ]
     },
     "execution_count": 12,
     "metadata": {},
     "output_type": "execute_result"
    }
   ],
   "source": [
    "# stores quotient and remainder\n",
    "np.divmod(a,b)"
   ]
  },
  {
   "cell_type": "code",
   "execution_count": 14,
   "id": "56491522-d16d-46ff-8b6c-27a90d5897f6",
   "metadata": {},
   "outputs": [
    {
     "data": {
      "text/plain": [
       "array([1.        , 1.41421356, 1.73205081, 2.        , 2.23606798,\n",
       "       2.44948974, 2.64575131, 2.82842712, 3.        ])"
      ]
     },
     "execution_count": 14,
     "metadata": {},
     "output_type": "execute_result"
    }
   ],
   "source": [
    "#squre root\n",
    "np.sqrt(a)\n"
   ]
  },
  {
   "cell_type": "code",
   "execution_count": 15,
   "id": "a8eee87a-2373-4c45-bb24-b0f58fa8c69e",
   "metadata": {},
   "outputs": [
    {
     "data": {
      "text/plain": [
       "array([          1,        2048,      531441,    67108864,  1808548329,\n",
       "        2033549312, -2094633337,           0,  -400556711])"
      ]
     },
     "execution_count": 15,
     "metadata": {},
     "output_type": "execute_result"
    }
   ],
   "source": [
    "#power\n",
    "np.power(a,b)"
   ]
  },
  {
   "cell_type": "code",
   "execution_count": 16,
   "id": "9c4d9402-078d-4eab-af0e-35e2b9f3b4f6",
   "metadata": {},
   "outputs": [
    {
     "name": "stdout",
     "output_type": "stream",
     "text": [
      "[1 2 3 4 5 6 7 8 9]\n",
      "[10 11 12 13 14 15 17 18 19]\n"
     ]
    }
   ],
   "source": [
    "#stastical function\n",
    "print(a)\n",
    "print(b)"
   ]
  },
  {
   "cell_type": "code",
   "execution_count": 19,
   "id": "b9914284-db87-4e5c-9ab2-facfe72c1a13",
   "metadata": {},
   "outputs": [
    {
     "name": "stdout",
     "output_type": "stream",
     "text": [
      "1\n",
      "10\n"
     ]
    }
   ],
   "source": [
    "#min\n",
    "print(np.min(a))\n",
    "print(np.min(b))"
   ]
  },
  {
   "cell_type": "code",
   "execution_count": 20,
   "id": "7a3bd145-6c62-4341-9472-09e3afa215b7",
   "metadata": {},
   "outputs": [
    {
     "name": "stdout",
     "output_type": "stream",
     "text": [
      "9\n",
      "19\n"
     ]
    }
   ],
   "source": [
    "#max \n",
    "print(np.max(a))\n",
    "print(np.max(b))\n"
   ]
  },
  {
   "cell_type": "code",
   "execution_count": 21,
   "id": "d8878d2a-f681-4e88-98a4-fd88ddb44460",
   "metadata": {},
   "outputs": [
    {
     "data": {
      "text/plain": [
       "5.0"
      ]
     },
     "execution_count": 21,
     "metadata": {},
     "output_type": "execute_result"
    }
   ],
   "source": [
    "#mean\n",
    "np.mean(a)"
   ]
  },
  {
   "cell_type": "code",
   "execution_count": 2,
   "id": "0bdc0711-e0df-45ad-ac38-babe1eaf8360",
   "metadata": {},
   "outputs": [
    {
     "data": {
      "text/plain": [
       "(array([2, 4], dtype=int64),)"
      ]
     },
     "execution_count": 2,
     "metadata": {},
     "output_type": "execute_result"
    }
   ],
   "source": [
    "#where\n",
    "import numpy as np\n",
    "a=np.array([1,2,3,4,3,5,6,7,8,9])\n",
    "np.where(a==3)"
   ]
  },
  {
   "cell_type": "code",
   "execution_count": null,
   "id": "11b71cba-90bc-4c18-984b-c185878ddf23",
   "metadata": {},
   "outputs": [],
   "source": []
  },
  {
   "cell_type": "code",
   "execution_count": null,
   "id": "5d84c379-4060-4c4c-9053-9d72d5ae4e37",
   "metadata": {},
   "outputs": [],
   "source": []
  }
 ],
 "metadata": {
  "kernelspec": {
   "display_name": "Python 3 (ipykernel)",
   "language": "python",
   "name": "python3"
  },
  "language_info": {
   "codemirror_mode": {
    "name": "ipython",
    "version": 3
   },
   "file_extension": ".py",
   "mimetype": "text/x-python",
   "name": "python",
   "nbconvert_exporter": "python",
   "pygments_lexer": "ipython3",
   "version": "3.12.7"
  }
 },
 "nbformat": 4,
 "nbformat_minor": 5
}
