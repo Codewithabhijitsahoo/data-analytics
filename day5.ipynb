{
 "cells": [
  {
   "cell_type": "markdown",
   "id": "d527abf7-efa7-40f1-820c-702c29da8ee8",
   "metadata": {},
   "source": [
    "# Functions"
   ]
  },
  {
   "cell_type": "markdown",
   "id": "c4a32f53-0ba6-44fa-a330-e761b30ea277",
   "metadata": {},
   "source": [
    "a resuable piece of code block of statements that does some specific task and return something\n"
   ]
  },
  {
   "cell_type": "markdown",
   "id": "22061099-f205-47f0-b67e-c9e9faa1cadc",
   "metadata": {},
   "source": [
    "types :\n",
    "\n",
    "1. user-defiend\n",
    "\n",
    "2. built-in"
   ]
  },
  {
   "cell_type": "markdown",
   "id": "1b2ac17a-8ee5-4fdc-a5d7-6c58422afede",
   "metadata": {},
   "source": [
    "syntax :\n",
    "\n",
    "def function_name(parameters ):\n",
    "\n",
    "    #block code"
   ]
  },
  {
   "cell_type": "code",
   "execution_count": 1,
   "id": "dfe8931f-002e-4a4e-aedb-e95c64cf0617",
   "metadata": {},
   "outputs": [
    {
     "name": "stdout",
     "output_type": "stream",
     "text": [
      "hello abhi\n"
     ]
    }
   ],
   "source": [
    "# ex\n",
    "def greet():\n",
    "    print(\"hello abhi\")\n",
    "\n",
    "greet()"
   ]
  },
  {
   "cell_type": "code",
   "execution_count": 3,
   "id": "c7f86367-36e9-445b-a7e0-e5329ffce191",
   "metadata": {},
   "outputs": [
    {
     "name": "stdin",
     "output_type": "stream",
     "text": [
      "enter a number  2\n",
      "enter a second number 3\n"
     ]
    },
    {
     "name": "stdout",
     "output_type": "stream",
     "text": [
      "5\n"
     ]
    }
   ],
   "source": [
    "# function without arguments\n",
    "def add():\n",
    "    m=int(input(\"enter a number \"))\n",
    "    n=int(input(\"enter a second number\"))\n",
    "    print(m+n)\n",
    "\n",
    "add()"
   ]
  },
  {
   "cell_type": "code",
   "execution_count": 4,
   "id": "b0c1f6d2-19bb-4f91-a21d-74423179d83f",
   "metadata": {},
   "outputs": [
    {
     "name": "stdout",
     "output_type": "stream",
     "text": [
      "7\n"
     ]
    }
   ],
   "source": [
    "#function with arguments\n",
    "\n",
    "def add(x,y):\n",
    "    print(x+y)\n",
    "\n",
    "add(3,4)"
   ]
  },
  {
   "cell_type": "code",
   "execution_count": 7,
   "id": "355ee3d5-9ac5-43b3-ae68-f48f563253bb",
   "metadata": {},
   "outputs": [
    {
     "name": "stdout",
     "output_type": "stream",
     "text": [
      "hello\n"
     ]
    }
   ],
   "source": [
    "# function without return \n",
    "\n",
    "def show():\n",
    "    print(\"hello\")\n",
    "\n",
    "\n",
    "show()"
   ]
  },
  {
   "cell_type": "code",
   "execution_count": 8,
   "id": "1b11ba03-a01f-456a-944c-2e12bd59ede6",
   "metadata": {},
   "outputs": [
    {
     "name": "stdout",
     "output_type": "stream",
     "text": [
      "hello\n"
     ]
    }
   ],
   "source": [
    "# function with return\n",
    "def show():\n",
    "    return \"hello\"\n",
    "\n",
    "x=show()\n",
    "print(x)"
   ]
  },
  {
   "cell_type": "code",
   "execution_count": 10,
   "id": "adb8c672-711a-40f5-998e-9ae9de983e36",
   "metadata": {},
   "outputs": [
    {
     "data": {
      "text/plain": [
       "'hello everyone'"
      ]
     },
     "execution_count": 10,
     "metadata": {},
     "output_type": "execute_result"
    }
   ],
   "source": [
    "def show():\n",
    "    return \"hello\"\n",
    "\n",
    "show()+\" everyone\""
   ]
  },
  {
   "cell_type": "code",
   "execution_count": null,
   "id": "55f04282-13bd-4b0d-99c7-974603206c56",
   "metadata": {},
   "outputs": [],
   "source": []
  },
  {
   "cell_type": "code",
   "execution_count": null,
   "id": "bf91873e-ef63-4042-a6c4-2aab7650a5cc",
   "metadata": {},
   "outputs": [],
   "source": []
  },
  {
   "cell_type": "code",
   "execution_count": null,
   "id": "efac0c72-6541-4564-a30a-ba5ed3e106bf",
   "metadata": {},
   "outputs": [],
   "source": []
  },
  {
   "cell_type": "code",
   "execution_count": null,
   "id": "f5faedc4-3120-4ba1-9f39-7b6e5e468399",
   "metadata": {},
   "outputs": [],
   "source": []
  }
 ],
 "metadata": {
  "kernelspec": {
   "display_name": "Python 3 (ipykernel)",
   "language": "python",
   "name": "python3"
  },
  "language_info": {
   "codemirror_mode": {
    "name": "ipython",
    "version": 3
   },
   "file_extension": ".py",
   "mimetype": "text/x-python",
   "name": "python",
   "nbconvert_exporter": "python",
   "pygments_lexer": "ipython3",
   "version": "3.12.7"
  }
 },
 "nbformat": 4,
 "nbformat_minor": 5
}
