{
 "cells": [
  {
   "cell_type": "raw",
   "id": "78eb873f-d876-4457-b599-eaa2f99bbf35",
   "metadata": {},
   "source": [
    "# operators"
   ]
  },
  {
   "cell_type": "markdown",
   "id": "f93e00d6-e8bd-4209-a6d8-a09cce0fe1d0",
   "metadata": {},
   "source": [
    "an opearator is  a special symbol upon ,which we perform some opearations on variables and values "
   ]
  },
  {
   "cell_type": "markdown",
   "id": "8624d968-8a16-4e02-a415-ec19b904c16b",
   "metadata": {},
   "source": [
    "types "
   ]
  },
  {
   "cell_type": "markdown",
   "id": "359f877c-0e51-4f8f-a558-3c2f17659a07",
   "metadata": {},
   "source": [
    "1.arithmatic "
   ]
  },
  {
   "cell_type": "markdown",
   "id": "e02e5516-1448-43da-9fa7-22f9ff7c98ec",
   "metadata": {},
   "source": [
    "2.assignment\n"
   ]
  },
  {
   "cell_type": "markdown",
   "id": "1376e605-c8d5-4027-a9db-e7b084718c04",
   "metadata": {},
   "source": [
    "3.comparison \n"
   ]
  },
  {
   "cell_type": "markdown",
   "id": "44aa2b6d-7979-4b92-a2c8-13f3394ec20b",
   "metadata": {},
   "source": [
    "4.logical\n"
   ]
  },
  {
   "cell_type": "markdown",
   "id": "4c9feb41-28c0-47bc-b512-17a680d24f13",
   "metadata": {},
   "source": [
    "5.membership"
   ]
  },
  {
   "cell_type": "markdown",
   "id": "844a7fa7-5369-4749-b44f-ba04f82e629b",
   "metadata": {},
   "source": [
    "# 1.arthimetic opearator "
   ]
  },
  {
   "cell_type": "code",
   "execution_count": 1,
   "id": "4f8a7e71-aece-4774-85d7-c62cb7d197ca",
   "metadata": {},
   "outputs": [
    {
     "data": {
      "text/plain": [
       "44"
      ]
     },
     "execution_count": 1,
     "metadata": {},
     "output_type": "execute_result"
    }
   ],
   "source": [
    "#addition opearator\n",
    "a=10\n",
    "b=34\n",
    "a+b"
   ]
  },
  {
   "cell_type": "code",
   "execution_count": 2,
   "id": "a7ef48c9-bd45-4282-93d8-7c81fb0d5d8d",
   "metadata": {},
   "outputs": [
    {
     "data": {
      "text/plain": [
       "-24"
      ]
     },
     "execution_count": 2,
     "metadata": {},
     "output_type": "execute_result"
    }
   ],
   "source": [
    "#subtraction\n",
    "a-b\n"
   ]
  },
  {
   "cell_type": "code",
   "execution_count": 10,
   "id": "91ff06f1-3ed6-4bbb-bd90-454da2ec7bc2",
   "metadata": {},
   "outputs": [
    {
     "data": {
      "text/plain": [
       "24"
      ]
     },
     "execution_count": 10,
     "metadata": {},
     "output_type": "execute_result"
    }
   ],
   "source": [
    "#multiplication\n",
    "a*b\n"
   ]
  },
  {
   "cell_type": "code",
   "execution_count": 9,
   "id": "b6dac82d-dd02-4953-8f8a-411929060c79",
   "metadata": {},
   "outputs": [
    {
     "data": {
      "text/plain": [
       "2.6666666666666665"
      ]
     },
     "execution_count": 9,
     "metadata": {},
     "output_type": "execute_result"
    }
   ],
   "source": [
    "#division\n",
    "a/b"
   ]
  },
  {
   "cell_type": "code",
   "execution_count": 5,
   "id": "a9987b8d-5cbb-4554-b909-310072bb5270",
   "metadata": {},
   "outputs": [
    {
     "data": {
      "text/plain": [
       "10"
      ]
     },
     "execution_count": 5,
     "metadata": {},
     "output_type": "execute_result"
    }
   ],
   "source": [
    "#modulus \n",
    "a%b"
   ]
  },
  {
   "cell_type": "code",
   "execution_count": 7,
   "id": "e0dd2956-5bdf-4b81-bafd-22236fc1093e",
   "metadata": {},
   "outputs": [
    {
     "data": {
      "text/plain": [
       "2"
      ]
     },
     "execution_count": 7,
     "metadata": {},
     "output_type": "execute_result"
    }
   ],
   "source": [
    "#floor division\n",
    "a=8\n",
    "b=3\n",
    "a//b"
   ]
  },
  {
   "cell_type": "code",
   "execution_count": 8,
   "id": "3f09e53b-8480-46de-b715-9978a8bd4424",
   "metadata": {},
   "outputs": [
    {
     "data": {
      "text/plain": [
       "512"
      ]
     },
     "execution_count": 8,
     "metadata": {},
     "output_type": "execute_result"
    }
   ],
   "source": [
    "#power \n",
    "a**b"
   ]
  },
  {
   "cell_type": "code",
   "execution_count": null,
   "id": "c2581d6b-d26b-4ccf-a0f3-b7e3f72c4324",
   "metadata": {},
   "outputs": [],
   "source": []
  },
  {
   "cell_type": "markdown",
   "id": "c55fd7db-f881-4bf8-b684-676038a98a74",
   "metadata": {},
   "source": [
    "# 2.assignment opeartor"
   ]
  },
  {
   "cell_type": "markdown",
   "id": "c96cf82f-0077-4ace-ac91-4750a9a0dd48",
   "metadata": {},
   "source": [
    "assignment operator are used to assign values to variable"
   ]
  },
  {
   "cell_type": "code",
   "execution_count": 11,
   "id": "699265a5-20a1-4d46-b86e-b4f453afaa4b",
   "metadata": {},
   "outputs": [
    {
     "name": "stdout",
     "output_type": "stream",
     "text": [
      "5\n"
     ]
    }
   ],
   "source": [
    "x=5\n",
    "print(x)\n"
   ]
  },
  {
   "cell_type": "code",
   "execution_count": 12,
   "id": "43fabcbb-ab93-4a5e-b343-dffc6862495e",
   "metadata": {},
   "outputs": [
    {
     "name": "stdout",
     "output_type": "stream",
     "text": [
      "9\n"
     ]
    }
   ],
   "source": [
    "x+=4 #x=x+4\n",
    "print(x)"
   ]
  },
  {
   "cell_type": "code",
   "execution_count": 13,
   "id": "bdb748f1-ad6e-493a-b195-0df584b4ed70",
   "metadata": {},
   "outputs": [
    {
     "name": "stdout",
     "output_type": "stream",
     "text": [
      "5\n"
     ]
    }
   ],
   "source": [
    "x-=4\n",
    "print(x)"
   ]
  },
  {
   "cell_type": "code",
   "execution_count": 14,
   "id": "ba41f4a1-e70a-45ae-9f95-3c8157d8de44",
   "metadata": {},
   "outputs": [
    {
     "name": "stdout",
     "output_type": "stream",
     "text": [
      "20\n"
     ]
    }
   ],
   "source": [
    "x*=4\n",
    "print(x)"
   ]
  },
  {
   "cell_type": "code",
   "execution_count": 15,
   "id": "48290e72-2a41-41c2-9f1e-f906e91dfee2",
   "metadata": {},
   "outputs": [
    {
     "name": "stdout",
     "output_type": "stream",
     "text": [
      "4.0\n"
     ]
    }
   ],
   "source": [
    "x/=5\n",
    "print(x)"
   ]
  },
  {
   "cell_type": "code",
   "execution_count": 16,
   "id": "5fa28bf0-7890-4a2c-9b78-0d8f94987e0f",
   "metadata": {},
   "outputs": [
    {
     "name": "stdout",
     "output_type": "stream",
     "text": [
      "4.0\n"
     ]
    }
   ],
   "source": [
    "x%=6\n",
    "print(x)"
   ]
  },
  {
   "cell_type": "markdown",
   "id": "dd455446-7c5c-4065-afe8-6e062b062578",
   "metadata": {},
   "source": [
    "# 3.comparison opearator "
   ]
  },
  {
   "cell_type": "code",
   "execution_count": 17,
   "id": "bbe3cc7e-e203-4219-a6b9-7ec9ab59f4fb",
   "metadata": {},
   "outputs": [
    {
     "data": {
      "text/plain": [
       "False"
      ]
     },
     "execution_count": 17,
     "metadata": {},
     "output_type": "execute_result"
    }
   ],
   "source": [
    "x=4\n",
    "y=6\n",
    "x>y"
   ]
  },
  {
   "cell_type": "code",
   "execution_count": 18,
   "id": "cf1097e9-0d97-495b-a812-46c766256923",
   "metadata": {},
   "outputs": [
    {
     "data": {
      "text/plain": [
       "True"
      ]
     },
     "execution_count": 18,
     "metadata": {},
     "output_type": "execute_result"
    }
   ],
   "source": [
    "x<y"
   ]
  },
  {
   "cell_type": "markdown",
   "id": "2bfb3723-fa36-47ef-b34d-56caf8c6adf9",
   "metadata": {},
   "source": [
    "x>=y"
   ]
  },
  {
   "cell_type": "code",
   "execution_count": 45,
   "id": "dfaf6ba1-434c-4fad-80d2-f4ff47f53bc1",
   "metadata": {},
   "outputs": [
    {
     "data": {
      "text/plain": [
       "False"
      ]
     },
     "execution_count": 45,
     "metadata": {},
     "output_type": "execute_result"
    }
   ],
   "source": [
    "x<=y"
   ]
  },
  {
   "cell_type": "markdown",
   "id": "cb2c034d-855e-458e-bca5-f8bd3c6b00eb",
   "metadata": {},
   "source": [
    "# logical opearator"
   ]
  },
  {
   "cell_type": "markdown",
   "id": "0c5b3387-9061-4719-b750-368fd7bd438e",
   "metadata": {},
   "source": [
    "logical opearator are used to combine conditional statments"
   ]
  },
  {
   "cell_type": "code",
   "execution_count": 21,
   "id": "4c0e81df-0983-4e5f-91f3-444e531c474f",
   "metadata": {},
   "outputs": [
    {
     "data": {
      "text/plain": [
       "False"
      ]
     },
     "execution_count": 21,
     "metadata": {},
     "output_type": "execute_result"
    }
   ],
   "source": [
    "10>20 and 30>39"
   ]
  },
  {
   "cell_type": "code",
   "execution_count": 26,
   "id": "c9d2a453-c0ed-45bb-b818-22463eba9179",
   "metadata": {},
   "outputs": [
    {
     "data": {
      "text/plain": [
       "True"
      ]
     },
     "execution_count": 26,
     "metadata": {},
     "output_type": "execute_result"
    }
   ],
   "source": [
    "100>20 or 30>39\n"
   ]
  },
  {
   "cell_type": "code",
   "execution_count": 27,
   "id": "93db5971-eb7f-4df5-a819-8d3fe499ee39",
   "metadata": {},
   "outputs": [
    {
     "data": {
      "text/plain": [
       "False"
      ]
     },
     "execution_count": 27,
     "metadata": {},
     "output_type": "execute_result"
    }
   ],
   "source": [
    "not 10>3"
   ]
  },
  {
   "cell_type": "code",
   "execution_count": 34,
   "id": "f3d7fa62-9178-43d5-9706-1b221917cab5",
   "metadata": {},
   "outputs": [
    {
     "data": {
      "text/plain": [
       "False"
      ]
     },
     "execution_count": 34,
     "metadata": {},
     "output_type": "execute_result"
    }
   ],
   "source": [
    " not 3==3\n"
   ]
  },
  {
   "cell_type": "code",
   "execution_count": 42,
   "id": "f7c1af72-afc5-4869-a9ed-da98b68ce5d5",
   "metadata": {},
   "outputs": [
    {
     "data": {
      "text/plain": [
       "True"
      ]
     },
     "execution_count": 42,
     "metadata": {},
     "output_type": "execute_result"
    }
   ],
   "source": [
    "not 3!=3"
   ]
  },
  {
   "cell_type": "markdown",
   "id": "95f0712c-24c6-48a0-bbc7-8ecae63fb7f7",
   "metadata": {},
   "source": [
    "# membership opearator "
   ]
  },
  {
   "cell_type": "code",
   "execution_count": 46,
   "id": "35827695-d3e0-4e12-b7f5-c7ffabc9a214",
   "metadata": {},
   "outputs": [
    {
     "data": {
      "text/plain": [
       "False"
      ]
     },
     "execution_count": 46,
     "metadata": {},
     "output_type": "execute_result"
    }
   ],
   "source": [
    "\"a \" in \"aeroplane\""
   ]
  },
  {
   "cell_type": "code",
   "execution_count": 60,
   "id": "19cbf36f-c302-4672-a4af-921e16de730a",
   "metadata": {},
   "outputs": [
    {
     "name": "stdout",
     "output_type": "stream",
     "text": [
      "yes\n"
     ]
    }
   ],
   "source": [
    "a=10 \n",
    "b=[1,2,3,10]\n",
    "if a in b:\n",
    "    print(\"yes\")\n",
    "\n",
    "  "
   ]
  },
  {
   "cell_type": "code",
   "execution_count": 61,
   "id": "90aed7b9-5b2c-4052-bf50-de1193c6bbee",
   "metadata": {},
   "outputs": [
    {
     "data": {
      "text/plain": [
       "False"
      ]
     },
     "execution_count": 61,
     "metadata": {},
     "output_type": "execute_result"
    }
   ],
   "source": [
    "\"a\" not in 'aeroplane'"
   ]
  },
  {
   "cell_type": "markdown",
   "id": "0cd8f34a-5612-4a8b-99b3-69e8f84138cf",
   "metadata": {},
   "source": [
    "# 6.identity opearator"
   ]
  },
  {
   "cell_type": "markdown",
   "id": "89a29a21-bf45-4c3d-bf58-89a4f31408b5",
   "metadata": {},
   "source": [
    "there is two identity operator "
   ]
  },
  {
   "cell_type": "markdown",
   "id": "9ea25849-e6e1-4026-9127-1889dd3db382",
   "metadata": {},
   "source": [
    "1. is"
   ]
  },
  {
   "cell_type": "markdown",
   "id": "c684ac23-8f0b-49f7-bce1-5f4cce514602",
   "metadata": {},
   "source": [
    "2.is not "
   ]
  },
  {
   "cell_type": "code",
   "execution_count": 66,
   "id": "dc6f02a8-f681-4cf7-b4ac-54c7d8ca836a",
   "metadata": {},
   "outputs": [
    {
     "name": "stdout",
     "output_type": "stream",
     "text": [
      "False\n",
      "140714237831896\n",
      "140714237831896\n"
     ]
    }
   ],
   "source": [
    "a=10\n",
    "b=10\n",
    "print(a is  b)\n",
    "print(id(a))\n",
    "print(id(b))"
   ]
  },
  {
   "cell_type": "code",
   "execution_count": 3,
   "id": "8469dae0-f0d0-44fb-a825-906cfcef0848",
   "metadata": {},
   "outputs": [
    {
     "name": "stdout",
     "output_type": "stream",
     "text": [
      "True\n"
     ]
    }
   ],
   "source": [
    "a=10\n",
    "b=12\n",
    "print(a is not b)\n"
   ]
  },
  {
   "cell_type": "markdown",
   "id": "f338a20b-8bae-4dab-a99c-a9cc91c827b0",
   "metadata": {},
   "source": [
    "# conditional statments "
   ]
  },
  {
   "cell_type": "markdown",
   "id": "c4683af7-b087-4181-a5fb-2382a7f60f51",
   "metadata": {},
   "source": [
    "it is used to check the flow of control according to the condition which is given "
   ]
  },
  {
   "cell_type": "markdown",
   "id": "a96ef29c-ab2c-4d26-87fb-9726333f3097",
   "metadata": {},
   "source": [
    "# indentation"
   ]
  },
  {
   "cell_type": "markdown",
   "id": "59e7e775-1818-444c-bb65-cd4a18ac6d98",
   "metadata": {},
   "source": [
    "it is one of the imp. feature in python . it indicates the block of code"
   ]
  },
  {
   "cell_type": "code",
   "execution_count": 70,
   "id": "29769890-377f-40fe-8eae-4c1895346836",
   "metadata": {},
   "outputs": [
    {
     "ename": "IndentationError",
     "evalue": "expected an indented block after 'if' statement on line 2 (3416946870.py, line 3)",
     "output_type": "error",
     "traceback": [
      "\u001b[1;36m  Cell \u001b[1;32mIn[70], line 3\u001b[1;36m\u001b[0m\n\u001b[1;33m    print(\"x\")\u001b[0m\n\u001b[1;37m    ^\u001b[0m\n\u001b[1;31mIndentationError\u001b[0m\u001b[1;31m:\u001b[0m expected an indented block after 'if' statement on line 2\n"
     ]
    }
   ],
   "source": [
    "#ex\n",
    "if a>10:\n",
    "print(\"x\")"
   ]
  },
  {
   "cell_type": "markdown",
   "id": "0e054071-d460-47eb-bffb-d06aebf4b8ce",
   "metadata": {},
   "source": [
    "# if statments:"
   ]
  },
  {
   "cell_type": "markdown",
   "id": "22a433f7-e0fa-4c12-bb33-87ef5ae792a6",
   "metadata": {},
   "source": [
    "if the condition is true then it excute the statments"
   ]
  },
  {
   "cell_type": "code",
   "execution_count": 2,
   "id": "c2072bfa-1e91-40a3-9445-fa5e9da55dde",
   "metadata": {},
   "outputs": [
    {
     "name": "stdout",
     "output_type": "stream",
     "text": [
      "greater \n"
     ]
    }
   ],
   "source": [
    "#ex\n",
    "a=10\n",
    "b=100\n",
    "if a<b:\n",
    "    print(\"greater \")"
   ]
  },
  {
   "cell_type": "markdown",
   "id": "41e41c4f-5b29-45b0-b661-cecd6d67cb17",
   "metadata": {},
   "source": [
    "# if-else statments"
   ]
  },
  {
   "cell_type": "markdown",
   "id": "6ba3295a-a996-4c19-98c9-8002478fb342",
   "metadata": {},
   "source": [
    "it check if the condition is true then if part is  excute other wise else part is excute "
   ]
  },
  {
   "cell_type": "code",
   "execution_count": 5,
   "id": "9b909e75-bbe7-43da-8fa5-26a687a18a54",
   "metadata": {},
   "outputs": [
    {
     "name": "stdin",
     "output_type": "stream",
     "text": [
      "enter a number  23\n",
      "enter 2nd number  77\n"
     ]
    },
    {
     "name": "stdout",
     "output_type": "stream",
     "text": [
      "bhgg yahse \n"
     ]
    }
   ],
   "source": [
    "x=int(input('enter a number '))\n",
    "y=int(input('enter 2nd number '))\n",
    "if x>y:\n",
    "    print(\"yahh our nice \")\n",
    "\n",
    "else:\n",
    "    print(\"bhgg yahse \")"
   ]
  },
  {
   "cell_type": "markdown",
   "id": "05e8be2f-72b2-483d-97de-c56810f730d5",
   "metadata": {},
   "source": [
    "# Q. wapp to check whether the number is div by 7 or not "
   ]
  },
  {
   "cell_type": "code",
   "execution_count": 7,
   "id": "e1e2707b-ec8f-4063-931d-8727afbcc2de",
   "metadata": {},
   "outputs": [
    {
     "name": "stdin",
     "output_type": "stream",
     "text": [
      "enter a number  34\n"
     ]
    },
    {
     "name": "stdout",
     "output_type": "stream",
     "text": [
      "sooryy\n"
     ]
    }
   ],
   "source": [
    "x=int(input('enter a number '))\n",
    "if x%7==0:\n",
    "    print(\"yes\")\n",
    "else :\n",
    "    print(\"sooryy\")"
   ]
  },
  {
   "cell_type": "markdown",
   "id": "d6f6d21a-3c8e-44ff-b20a-75b4956d5201",
   "metadata": {},
   "source": [
    "# Q. wapp to check whether the enterd number is even or odd :\n"
   ]
  },
  {
   "cell_type": "code",
   "execution_count": 14,
   "id": "71a4f9d4-109c-4fcf-8300-7db36a4b7215",
   "metadata": {},
   "outputs": [
    {
     "name": "stdin",
     "output_type": "stream",
     "text": [
      "enter a number  20\n"
     ]
    },
    {
     "name": "stdout",
     "output_type": "stream",
     "text": [
      "the number is even\n"
     ]
    }
   ],
   "source": [
    "x=int(input('enter a number '))\n",
    "if x%2==0:\n",
    "    print(\"the number is even\")\n",
    "else :\n",
    "    print(\"odd\")    "
   ]
  },
  {
   "cell_type": "markdown",
   "id": "1dbff03d-c458-43cc-8e29-5187ad6f5db7",
   "metadata": {},
   "source": [
    "# nested if "
   ]
  },
  {
   "cell_type": "markdown",
   "id": "4baef2da-0a7a-452d-b229-f9ab6d8d7cf9",
   "metadata": {},
   "source": [
    "if statments another if statment"
   ]
  },
  {
   "cell_type": "code",
   "execution_count": 17,
   "id": "82160409-77d8-4b31-9b72-388d972c26e0",
   "metadata": {},
   "outputs": [
    {
     "name": "stdin",
     "output_type": "stream",
     "text": [
      "enter a number  -1\n"
     ]
    },
    {
     "name": "stdout",
     "output_type": "stream",
     "text": [
      "negative \n"
     ]
    }
   ],
   "source": [
    "x=int(input('enter a number ')\n",
    "      if x==0:\n",
    "    print(\"number is zero\")\n",
    "\n",
    "else:\n",
    "    if x>0:\n",
    "        print(\"positive\")\n",
    "    else:\n",
    "        print(\"negative \")\n",
    "        "
   ]
  },
  {
   "cell_type": "markdown",
   "id": "fcd2061c-c34b-4506-b8ec-c9813e2dfd4f",
   "metadata": {},
   "source": [
    "# if-else -else"
   ]
  },
  {
   "cell_type": "code",
   "execution_count": 31,
   "id": "f80f4f13-d142-45c6-b2ee-aad1e97786db",
   "metadata": {},
   "outputs": [
    {
     "name": "stdout",
     "output_type": "stream",
     "text": [
      "you have choice, use only fist letter  : cuttack dhenknal bhubaneswar\n"
     ]
    },
    {
     "name": "stdin",
     "output_type": "stream",
     "text": [
      "enter a number your city  D\n"
     ]
    },
    {
     "name": "stdout",
     "output_type": "stream",
     "text": [
      "dkl\n"
     ]
    }
   ],
   "source": [
    "a=\"cuttack\"\n",
    "b=\"dhenknal\"\n",
    "c=\"bhubaneswar\" \n",
    "print(\"you have choice, use only fist letter  :\",a,b,c)\n",
    "x=input('enter a number your city ')\n",
    "x=x.lower()\n",
    "\n",
    "if x==\"c\":\n",
    "    print(\"ctc\")\n",
    "elif x==\"d\":\n",
    "    print(\"dkl\")\n",
    "elif x==\"b\":\n",
    "    print(\"bbsr|\")\n",
    "else :\n",
    "    print(\"another dist\")\n",
    "      "
   ]
  },
  {
   "cell_type": "code",
   "execution_count": 38,
   "id": "2bb41afb-0060-4d85-bfd6-b6644dc66be2",
   "metadata": {},
   "outputs": [
    {
     "name": "stdin",
     "output_type": "stream",
     "text": [
      "enter a number  99\n"
     ]
    },
    {
     "name": "stdout",
     "output_type": "stream",
     "text": [
      "odd\n"
     ]
    }
   ],
   "source": [
    "x=int(input('enter a number '))\n",
    "if x>0:\n",
    "      if x%2==0:\n",
    "            print(\"even\")\n",
    "      else:\n",
    "        print(\"odd\")\n",
    "elif x==0:\n",
    "    print(\"your number is zero\")\n",
    "\n",
    "else:\n",
    "    print(\"your number is neagative \")\n",
    "    "
   ]
  },
  {
   "cell_type": "markdown",
   "id": "205a7aa6-e048-40d9-aef9-617c5c48a0ec",
   "metadata": {},
   "source": [
    "# Q. wappp to check whether the entered character is vowel or consonannt"
   ]
  },
  {
   "cell_type": "code",
   "execution_count": 43,
   "id": "57da2872-4825-4fef-9b1c-7cf2e2405c3a",
   "metadata": {},
   "outputs": [
    {
     "name": "stdin",
     "output_type": "stream",
     "text": [
      "enter a character  A\n"
     ]
    },
    {
     "name": "stdout",
     "output_type": "stream",
     "text": [
      "the character is vowel\n"
     ]
    }
   ],
   "source": [
    "x=input('enter a character ').lower()\n",
    "\n",
    "a=['a','e','i','o','u']\n",
    "if x in a :\n",
    "    print(\"the character is vowel\")\n",
    "else:\n",
    "    print(\"the character is consonant\")"
   ]
  },
  {
   "cell_type": "markdown",
   "id": "38d28476-14d8-4a12-9d92-62c2e21eb4e2",
   "metadata": {},
   "source": [
    "# Q. wapp to check whether the entered character is a digit or not "
   ]
  },
  {
   "cell_type": "code",
   "execution_count": 48,
   "id": "e809ddea-fe32-491d-bb15-45481c482557",
   "metadata": {},
   "outputs": [
    {
     "name": "stdin",
     "output_type": "stream",
     "text": [
      "enter a character abc\n"
     ]
    },
    {
     "name": "stdout",
     "output_type": "stream",
     "text": [
      "character \n"
     ]
    }
   ],
   "source": [
    "ch=input(\"enter a character\")\n",
    "\n",
    "if ch.isdigit():\n",
    "    print(\"YES, digit \")\n",
    "else:\n",
    "    print(\"character \")"
   ]
  },
  {
   "cell_type": "markdown",
   "id": "dc7953aa-5ce5-4b43-bbb3-b34bcfdba2bc",
   "metadata": {},
   "source": [
    "# q. wapp ti check the ncc eligibility of the students . the criteria is \n",
    " height should be >180cm and weight should be >60"
   ]
  },
  {
   "cell_type": "code",
   "execution_count": 51,
   "id": "22845ae4-000a-443f-9d45-a59312895dae",
   "metadata": {},
   "outputs": [
    {
     "name": "stdin",
     "output_type": "stream",
     "text": [
      "ENTER YOUR HEIGHT 200\n",
      "ENTER YOUR WEIGHT 77\n"
     ]
    },
    {
     "name": "stdout",
     "output_type": "stream",
     "text": [
      "your height eligible\n",
      "weight eligible\n"
     ]
    }
   ],
   "source": [
    "h=int(input(\"ENTER YOUR HEIGHT\"))\n",
    "w=int(input(\"ENTER YOUR WEIGHT\" ))\n",
    "k=True\n",
    "if h >180 :\n",
    "      print(\"your height eligible\")\n",
    "      if w>60:\n",
    "          print(\"weight eligible\")\n",
    "      else:\n",
    "          print(\"weight not eligible\")\n",
    "         k= \n",
    "else :\n",
    "      print(\"height is not eligible\")\n",
    "    "
   ]
  },
  {
   "cell_type": "markdown",
   "id": "6693f987-1115-40e9-b41b-015b31116e8d",
   "metadata": {},
   "source": [
    "# q. wapp to accepet a number from 1 to 7 and display the day according to the number "
   ]
  },
  {
   "cell_type": "code",
   "execution_count": 8,
   "id": "5b7e8246-8e64-462b-97eb-92ec346d826a",
   "metadata": {},
   "outputs": [
    {
     "name": "stdin",
     "output_type": "stream",
     "text": [
      "enter  a number from  1 to 7: 0\n"
     ]
    },
    {
     "name": "stdout",
     "output_type": "stream",
     "text": [
      "the day is : sunday\n"
     ]
    }
   ],
   "source": [
    "x=[\"sunday\",\"monday\", \"tuesday\",\"wednesday\",\"thurdsy\",\"friday\",\"saturday\"]\n",
    "i=int(input(\"enter  a number from  1 to 7:\"))\n",
    "if i<=7 and i>=0:\n",
    "      print(\"the day is :\",x[i])\n",
    "else:\n",
    "      print(\"please enter from 1 to 7\")\n"
   ]
  },
  {
   "cell_type": "markdown",
   "id": "815bef93-8f61-4d71-86ef-9714037ba809",
   "metadata": {},
   "source": [
    "# q. wapp take the age of the 3 pepole as input and determine the oldest among them"
   ]
  },
  {
   "cell_type": "code",
   "execution_count": 12,
   "id": "0a331b87-48dd-4d82-b257-d9503f73dce1",
   "metadata": {},
   "outputs": [
    {
     "name": "stdin",
     "output_type": "stream",
     "text": [
      "enter  the ages of 1 person : 89\n",
      "enter  the ages of 2 person : 11\n",
      "enter  the ages of 3 person : 10\n"
     ]
    },
    {
     "name": "stdout",
     "output_type": "stream",
     "text": [
      "smallest is  10\n"
     ]
    }
   ],
   "source": [
    "\n",
    "x=int(input(\"enter  the ages of 1 person :\"))\n",
    "y=int(input(\"enter  the ages of 2 person :\"))\n",
    "z=int(input(\"enter  the ages of 3 person :\"))\n",
    "\n",
    "if x<y:\n",
    "    if x<z:\n",
    "        print(\"smallest is\",x)\n",
    "    else:\n",
    "        print(\"smallest is \",z)\n",
    "else:\n",
    "    if y<z:\n",
    "        print(\"smallest is \",y)\n",
    "    else:\n",
    "        print(\"smallest is \",z)\n",
    " "
   ]
  },
  {
   "cell_type": "markdown",
   "id": "144c420e-9d18-403f-b672-657e59c77392",
   "metadata": {},
   "source": [
    "# Q.wapp to check the following traffic light condition"
   ]
  },
  {
   "cell_type": "markdown",
   "id": "5c14e2f1-2a4c-4b59-a208-521f18d27900",
   "metadata": {},
   "source": [
    "if the light is green - car is allowed to go"
   ]
  },
  {
   "cell_type": "markdown",
   "id": "1e64f2f5-9dbd-47af-9e1c-bac24c255879",
   "metadata": {},
   "source": [
    "if the light is yellow - car has to wait "
   ]
  },
  {
   "cell_type": "markdown",
   "id": "b8e23124-7db9-489b-bb25-68ad934823e8",
   "metadata": {},
   "source": [
    "if the light is red- car has to stop"
   ]
  },
  {
   "cell_type": "markdown",
   "id": "7977fc67-e0ff-4477-97f1-66b0c8029ef0",
   "metadata": {},
   "source": [
    "other signal - unrecongined signal"
   ]
  },
  {
   "cell_type": "code",
   "execution_count": 15,
   "id": "214f21fc-ffea-4310-a006-b6c2de9ed3de",
   "metadata": {},
   "outputs": [
    {
     "name": "stdin",
     "output_type": "stream",
     "text": [
      "enter the light color red\n"
     ]
    },
    {
     "name": "stdout",
     "output_type": "stream",
     "text": [
      "car has to stop\n"
     ]
    }
   ],
   "source": [
    "x=input(\"enter the light color\").lower()\n",
    "if x==\"red\":\n",
    "    print(\"car has to stop\")\n",
    "elif x==\"green\":\n",
    "    print(\"car has to go \")\n",
    "elif x==\"yellow \":\n",
    "    print(\"car has to wait \")\n",
    "else:\n",
    "    print(\"unrecongined signal\")\n"
   ]
  },
  {
   "cell_type": "markdown",
   "id": "091ac770-c173-476a-a922-3d051b9db8ee",
   "metadata": {},
   "source": [
    "# q. a school has folllowing system for grading "
   ]
  },
  {
   "cell_type": "markdown",
   "id": "140527d6-b03e-4dab-9bf3-d4539cc862f0",
   "metadata": {},
   "source": [
    "a. below 25-f"
   ]
  },
  {
   "cell_type": "markdown",
   "id": "7ca0b512-7f93-45cb-a232-b326b52a7a04",
   "metadata": {},
   "source": [
    "b.25 to 45-E"
   ]
  },
  {
   "cell_type": "markdown",
   "id": "efc5dcc5-c4b1-4e29-b1e4-cb0bf56147da",
   "metadata": {},
   "source": [
    "c.45 to 50-D"
   ]
  },
  {
   "cell_type": "markdown",
   "id": "215d98bb-8a22-4bf0-ae78-ab7992372a92",
   "metadata": {},
   "source": [
    "d.50 to 60- c"
   ]
  },
  {
   "cell_type": "markdown",
   "id": "ac9d64c6-608f-47f5-a844-4c1f259420f6",
   "metadata": {},
   "source": [
    "e.60 to 80-b"
   ]
  },
  {
   "cell_type": "markdown",
   "id": "c5d19aba-37d0-4848-ae15-7574603ca417",
   "metadata": {},
   "source": [
    "f. above - a"
   ]
  },
  {
   "cell_type": "code",
   "execution_count": 18,
   "id": "8086cf71-5310-427f-950a-a33a7779ea65",
   "metadata": {},
   "outputs": [
    {
     "name": "stdin",
     "output_type": "stream",
     "text": [
      "enter your mark 56\n"
     ]
    },
    {
     "name": "stdout",
     "output_type": "stream",
     "text": [
      "grade c\n"
     ]
    }
   ],
   "source": [
    "mark=int(input(\"enter your mark\"))\n",
    "if mark >80 and mark<=100:\n",
    "    print(\"grade: A\")\n",
    "elif mark>60 and mark<=80:\n",
    "    print(\" grade: b\")\n",
    "elif mark>50 and mark<=60:\n",
    "    print(\"grade c\")\n",
    "elif mark>45 and mark <=50:\n",
    "    print(\"grade d\")\n",
    "elif mark >=25 and mark<=45:\n",
    "    print(\"grade : E\")\n",
    "else:\n",
    "    print(\"grade: f\")\n",
    "    "
   ]
  },
  {
   "cell_type": "markdown",
   "id": "bd340c6f-9ef1-4599-9d48-ab7cb994ede8",
   "metadata": {},
   "source": [
    "\n",
    "# Q. wap to check students grades .your program should fullfill the following condition"
   ]
  },
  {
   "cell_type": "markdown",
   "id": "a55e3d58-fdff-40ac-9ae8-2b9343aa4a85",
   "metadata": {},
   "source": [
    "grade a - outstanding"
   ]
  },
  {
   "cell_type": "markdown",
   "id": "50c6b1af-a8dc-4f15-8dea-6d52a54f8768",
   "metadata": {},
   "source": [
    "grade b - excellent "
   ]
  },
  {
   "cell_type": "markdown",
   "id": "88eb8b42-b761-4ea3-88df-e2b5f9cc1005",
   "metadata": {},
   "source": [
    "grade c - very good"
   ]
  },
  {
   "cell_type": "markdown",
   "id": "68396e66-2b24-4886-84fe-a1e3ccdbd1a0",
   "metadata": {},
   "source": [
    "grade d - good"
   ]
  },
  {
   "cell_type": "markdown",
   "id": "10097354-6db2-4ab4-a93a-ab81144cd353",
   "metadata": {},
   "source": [
    "grade e - satisfactory"
   ]
  },
  {
   "cell_type": "markdown",
   "id": "699da7d2-afbc-435d-a5cf-c479e83cdd7b",
   "metadata": {},
   "source": [
    "others -unrecongined"
   ]
  },
  {
   "cell_type": "markdown",
   "id": "9aa9d2f2-0784-4d68-bc9c-5918e18cd6a0",
   "metadata": {},
   "source": [
    "the program also ask the student name ,class and section "
   ]
  },
  {
   "cell_type": "code",
   "execution_count": 4,
   "id": "2741ed9b-020d-4759-9237-b6b76924da2b",
   "metadata": {},
   "outputs": [
    {
     "name": "stdin",
     "output_type": "stream",
     "text": [
      "enter the students name   avi sahoo\n",
      "enter the students class   sec a\n",
      "enter the students section  ag1\n",
      "enter the students gradde   a\n"
     ]
    },
    {
     "name": "stdout",
     "output_type": "stream",
     "text": [
      "\n",
      "\n",
      "your data is below\n",
      "\n",
      "enter the students name:  avi sahoo\n",
      "enter the students class : sec a\n",
      "enter the students section: ag1\n",
      "grade was outstanding\n"
     ]
    }
   ],
   "source": [
    "x=input(\"enter the students name  \")\n",
    "x1=input(\"enter the students class  \")\n",
    "x2=input(\"enter the students section \")\n",
    "x3=input(\"enter the students gradde  \").lower()\n",
    "print(\"\\n\")\n",
    "print(\"your data is below\\n\")\n",
    "\n",
    "print( \"enter the students name: \",x)\n",
    "print(\"enter the students class :\",x1)\n",
    "print(\"enter the students section:\",x2)\n",
    "\n",
    "\n",
    "if x3==\"a\":\n",
    "    print(\"grade was outstanding\")\n",
    "elif x3==\"b\":\n",
    "    print(\" grade was excellent\")\n",
    "elif x3==\"c\":\n",
    "    print(\" grade was very good\")\n",
    "\n",
    "elif x3==\"d\":\n",
    "    print(\"  grade was good\")\n",
    "elif x==\"e\":\n",
    "    print(\" grade was satisfactory\")\n",
    "else:\n",
    "    print(\" grade was unrecongined\")\n",
    "\n",
    "\n"
   ]
  },
  {
   "cell_type": "code",
   "execution_count": null,
   "id": "04fb3a2b-f4bd-4290-a2e6-4d0caf707461",
   "metadata": {},
   "outputs": [],
   "source": []
  }
 ],
 "metadata": {
  "kernelspec": {
   "display_name": "Python 3 (ipykernel)",
   "language": "python",
   "name": "python3"
  },
  "language_info": {
   "codemirror_mode": {
    "name": "ipython",
    "version": 3
   },
   "file_extension": ".py",
   "mimetype": "text/x-python",
   "name": "python",
   "nbconvert_exporter": "python",
   "pygments_lexer": "ipython3",
   "version": "3.12.7"
  }
 },
 "nbformat": 4,
 "nbformat_minor": 5
}
