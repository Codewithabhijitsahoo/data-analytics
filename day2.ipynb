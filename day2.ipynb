{
 "cells": [
  {
   "cell_type": "markdown",
   "id": "c175f89a-25fa-451d-a554-792c8dc73cae",
   "metadata": {},
   "source": [
    "# day 2"
   ]
  },
  {
   "cell_type": "markdown",
   "id": "9820fb30-0e05-4f3a-920c-37ef4d8548fe",
   "metadata": {},
   "source": [
    "dt-20-06-25"
   ]
  },
  {
   "cell_type": "code",
   "execution_count": 2,
   "id": "88c93ad2-9bd6-4663-93d6-3e7fb9e167e9",
   "metadata": {},
   "outputs": [
    {
     "data": {
      "text/plain": [
       "'python world'"
      ]
     },
     "execution_count": 2,
     "metadata": {},
     "output_type": "execute_result"
    }
   ],
   "source": [
    "#replace \n",
    "s=\"hello world\"\n",
    "s.replace(\"hello\",\"python\")"
   ]
  },
  {
   "cell_type": "code",
   "execution_count": 3,
   "id": "83d48c5a-49e2-4bc9-83f0-ef7ed1974833",
   "metadata": {},
   "outputs": [
    {
     "data": {
      "text/plain": [
       "True"
      ]
     },
     "execution_count": 3,
     "metadata": {},
     "output_type": "execute_result"
    }
   ],
   "source": [
    "#isdigit\n",
    "s='123'\n",
    "s.isdigit()"
   ]
  },
  {
   "cell_type": "code",
   "execution_count": 4,
   "id": "a9c01d06-ed95-4605-b914-e485b98f522d",
   "metadata": {},
   "outputs": [
    {
     "data": {
      "text/plain": [
       "False"
      ]
     },
     "execution_count": 4,
     "metadata": {},
     "output_type": "execute_result"
    }
   ],
   "source": [
    "s=\"strolol\"\n",
    "s.isdigit()"
   ]
  },
  {
   "cell_type": "code",
   "execution_count": 6,
   "id": "2707050c-6f2f-437d-ab20-017fe8fb9bb7",
   "metadata": {},
   "outputs": [
    {
     "data": {
      "text/plain": [
       "True"
      ]
     },
     "execution_count": 6,
     "metadata": {},
     "output_type": "execute_result"
    }
   ],
   "source": [
    "s=\"abhijit\"\n",
    "s.isalpha()"
   ]
  },
  {
   "cell_type": "markdown",
   "id": "92345060-40c7-4dc6-b7db-27fb29910c6c",
   "metadata": {},
   "source": [
    "s=\"abhijit\"\n",
    "s.isalpha()"
   ]
  },
  {
   "cell_type": "markdown",
   "id": "fc1b6a6b-b571-4865-bcd4-03dfa5ab653d",
   "metadata": {},
   "source": [
    " # list datatype"
   ]
  },
  {
   "cell_type": "markdown",
   "id": "16d89499-a64b-4eb7-bee7-b99eda88a693",
   "metadata": {},
   "source": [
    "it is a a sequence of items , inside a[],items are separated by comma (,)"
   ]
  },
  {
   "cell_type": "markdown",
   "id": "b728da6d-9d39-4eec-8ebf-1a75e7558c85",
   "metadata": {},
   "source": [
    " it is  hectrogenous"
   ]
  },
  {
   "cell_type": "markdown",
   "id": "05dc32b7-9c2f-476b-967b-088b9e3ac6c0",
   "metadata": {},
   "source": [
    "we can use slicing in list"
   ]
  },
  {
   "cell_type": "markdown",
   "id": "eafbcd81-c9e2-421a-8fa4-21bedc69c053",
   "metadata": {},
   "source": [
    "list is mutable"
   ]
  },
  {
   "cell_type": "code",
   "execution_count": 9,
   "id": "a5ee1664-88bd-4ad9-b763-0a752334a468",
   "metadata": {},
   "outputs": [
    {
     "data": {
      "text/plain": [
       "list"
      ]
     },
     "execution_count": 9,
     "metadata": {},
     "output_type": "execute_result"
    }
   ],
   "source": [
    "a=[1,2,3,4,'ABC',True,\"python\",\"cttc\"]\n",
    "type(a)"
   ]
  },
  {
   "cell_type": "code",
   "execution_count": 11,
   "id": "28c0333d-d5c2-480c-b083-fd60cdc5ccdb",
   "metadata": {},
   "outputs": [
    {
     "data": {
      "text/plain": [
       "[2, 3, 4, 'ABC', True, 'python', 'cttc']"
      ]
     },
     "execution_count": 11,
     "metadata": {},
     "output_type": "execute_result"
    }
   ],
   "source": [
    "a[1:]"
   ]
  },
  {
   "cell_type": "markdown",
   "id": "57fc20ea-ef62-4c46-a2e6-408ba34c0463",
   "metadata": {},
   "source": [
    "adding elements to the list"
   ]
  },
  {
   "cell_type": "code",
   "execution_count": 22,
   "id": "de96134f-a23f-45e5-ab5a-6c56fbcfe4ce",
   "metadata": {},
   "outputs": [
    {
     "data": {
      "text/plain": [
       "[1,\n",
       " 2,\n",
       " 3,\n",
       " 4,\n",
       " 'ABC',\n",
       " True,\n",
       " 'python',\n",
       " 'cttc',\n",
       " 123,\n",
       " 123,\n",
       " 123,\n",
       " 3,\n",
       " 3,\n",
       " 3,\n",
       " 3,\n",
       " 23,\n",
       " 23,\n",
       " 23,\n",
       " 23]"
      ]
     },
     "execution_count": 22,
     "metadata": {},
     "output_type": "execute_result"
    }
   ],
   "source": [
    "a.append(23)\n",
    "a"
   ]
  },
  {
   "cell_type": "code",
   "execution_count": 24,
   "id": "b2cafbea-70a3-4730-bf14-7475233d02ec",
   "metadata": {},
   "outputs": [
    {
     "data": {
      "text/plain": [
       "[1, 2, 3, 4, 5, 6, 33, 4, 4, 44, 99, 55]"
      ]
     },
     "execution_count": 24,
     "metadata": {},
     "output_type": "execute_result"
    }
   ],
   "source": [
    "a=[1,2,3,4,5,6]\n",
    "a.extend([33,4,4,44,99,55])\n",
    "a"
   ]
  },
  {
   "cell_type": "code",
   "execution_count": 25,
   "id": "1b92876b-73e9-43b3-83cb-bb14841f76ef",
   "metadata": {},
   "outputs": [
    {
     "data": {
      "text/plain": [
       "[1, 2, 'abhi', 3, 4, 5, 6, 33, 4, 4, 44, 99, 55]"
      ]
     },
     "execution_count": 25,
     "metadata": {},
     "output_type": "execute_result"
    }
   ],
   "source": [
    "#insert\n",
    "a.insert(2,\"abhi\")\n",
    "a"
   ]
  },
  {
   "cell_type": "markdown",
   "id": "ceb1c7a3-4434-4354-a630-2f7d29d13a89",
   "metadata": {},
   "source": [
    "# removing elements"
   ]
  },
  {
   "cell_type": "code",
   "execution_count": 29,
   "id": "cfd9d9f8-1159-47e6-b59c-c151d7a9b5b1",
   "metadata": {},
   "outputs": [
    {
     "data": {
      "text/plain": [
       "[1, 2, 3, 5, 6]"
      ]
     },
     "execution_count": 29,
     "metadata": {},
     "output_type": "execute_result"
    }
   ],
   "source": [
    "#pop\n",
    "a=[1,2,3,4,5,6]\n",
    "a.pop(3)\n",
    "a"
   ]
  },
  {
   "cell_type": "code",
   "execution_count": 30,
   "id": "6060b9a0-01b1-4a8c-a34e-97397bebd033",
   "metadata": {},
   "outputs": [
    {
     "data": {
      "text/plain": [
       "[2, 3, 4, 5, 6]"
      ]
     },
     "execution_count": 30,
     "metadata": {},
     "output_type": "execute_result"
    }
   ],
   "source": [
    "#remove\n",
    "a=[1,2,3,4,5,6]\n",
    "a.remove(1)\n",
    "a"
   ]
  },
  {
   "cell_type": "code",
   "execution_count": 31,
   "id": "6130ce7b-3c72-4bf5-94c4-4842b1e6019d",
   "metadata": {},
   "outputs": [
    {
     "data": {
      "text/plain": [
       "[]"
      ]
     },
     "execution_count": 31,
     "metadata": {},
     "output_type": "execute_result"
    }
   ],
   "source": [
    "#clear\n",
    "a=[1,2,3,4,5,6]\n",
    "a.clear()\n"
   ]
  },
  {
   "cell_type": "code",
   "execution_count": 49,
   "id": "a6b76e65-880a-4c6c-8174-dad342f8d0a3",
   "metadata": {},
   "outputs": [
    {
     "data": {
      "text/plain": [
       "[1, 2, 3, 4, 5, 6]"
      ]
     },
     "execution_count": 49,
     "metadata": {},
     "output_type": "execute_result"
    }
   ],
   "source": [
    "#copy\n",
    "a=[1,2,3,4,5,6]\n",
    "k=a.copy()\n",
    "k\n"
   ]
  },
  {
   "cell_type": "code",
   "execution_count": 36,
   "id": "d82824a8-5d42-4815-b672-99a4cc2bfc4e",
   "metadata": {},
   "outputs": [
    {
     "data": {
      "text/plain": [
       "3"
      ]
     },
     "execution_count": 36,
     "metadata": {},
     "output_type": "execute_result"
    }
   ],
   "source": [
    "#count\n",
    "a=[1,2,3,4,5,6,5,5]\n",
    "r=a.count(5)\n",
    "r\n"
   ]
  },
  {
   "cell_type": "code",
   "execution_count": 46,
   "id": "4d604b3c-a483-440d-ac3b-43d8de29d000",
   "metadata": {},
   "outputs": [
    {
     "data": {
      "text/plain": [
       "[6, 5, 4, 3, 2, 1]"
      ]
     },
     "execution_count": 46,
     "metadata": {},
     "output_type": "execute_result"
    }
   ],
   "source": [
    "#reverse()\n",
    "a=[1,2,3,4,5,6]\n",
    "a.reverse()\n",
    "a"
   ]
  },
  {
   "cell_type": "code",
   "execution_count": 50,
   "id": "e10afe90-4112-415d-8a8e-33a237712f72",
   "metadata": {},
   "outputs": [
    {
     "data": {
      "text/plain": [
       "[0, 1, 2, 3, 4, 6, 9]"
      ]
     },
     "execution_count": 50,
     "metadata": {},
     "output_type": "execute_result"
    }
   ],
   "source": [
    "#sort\n",
    "a=[1,2,3,4,9,6,0]\n",
    "a.sort()\n",
    "a"
   ]
  },
  {
   "cell_type": "code",
   "execution_count": 65,
   "id": "f7b91b4b-da1d-45ed-b2d3-54b8effbcb48",
   "metadata": {},
   "outputs": [
    {
     "data": {
      "text/plain": [
       "[9, 5, 4, 3, 2, 1, 0]"
      ]
     },
     "execution_count": 65,
     "metadata": {},
     "output_type": "execute_result"
    }
   ],
   "source": [
    "a=[1,2,3,4,5,9,0]\n",
    "a.sort(reverse=True)\n",
    "a"
   ]
  },
  {
   "cell_type": "code",
   "execution_count": 66,
   "id": "c366dfe2-e16a-4213-8d44-01f85567024c",
   "metadata": {},
   "outputs": [
    {
     "data": {
      "text/plain": [
       "6"
      ]
     },
     "execution_count": 66,
     "metadata": {},
     "output_type": "execute_result"
    }
   ],
   "source": [
    "#len\n",
    "\n",
    "l=[1,2,3,4,5,6]\n",
    "\n",
    "len(l)"
   ]
  },
  {
   "cell_type": "markdown",
   "id": "08d269ed-fe8e-4d7e-ab08-0ae7b7cda4f9",
   "metadata": {},
   "source": [
    "# wapp to print your   title from your surename ?"
   ]
  },
  {
   "cell_type": "code",
   "execution_count": 84,
   "id": "eda61bdf-afcb-4989-ac65-ecc9b02a5fbe",
   "metadata": {},
   "outputs": [
    {
     "name": "stdin",
     "output_type": "stream",
     "text": [
      "enter your first name :  abhijit sahoo\n"
     ]
    },
    {
     "name": "stdout",
     "output_type": "stream",
     "text": [
      "sahoo\n"
     ]
    }
   ],
   "source": [
    "x=input(\"enter your first name : \")\n",
    "k=x.split()\n",
    "j=k.pop(1)\n",
    "print(str(j))\n"
   ]
  },
  {
   "cell_type": "code",
   "execution_count": null,
   "id": "01b84cba-7275-4502-a5be-e59eefc09869",
   "metadata": {},
   "outputs": [],
   "source": []
  },
  {
   "cell_type": "code",
   "execution_count": 85,
   "id": "63a5ba83-bb28-4ed9-afb7-85e9840e9817",
   "metadata": {},
   "outputs": [
    {
     "name": "stdin",
     "output_type": "stream",
     "text": [
      "enter your first name :  abhijit sahoo\n"
     ]
    },
    {
     "name": "stdout",
     "output_type": "stream",
     "text": [
      "sahoo\n"
     ]
    }
   ],
   "source": [
    "x=input(\"enter your first name : \")\n",
    "k=x.split()\n",
    "j=k.pop(-1)\n",
    "print(str(j))\n"
   ]
  },
  {
   "cell_type": "markdown",
   "id": "cd922e72-f8a7-49ee-8964-629fd9c29479",
   "metadata": {},
   "source": [
    "# wapp to add  7000 after 6000 in the given list"
   ]
  },
  {
   "cell_type": "code",
   "execution_count": 91,
   "id": "6d811afe-a56c-4893-a0ba-ab540be4e2be",
   "metadata": {},
   "outputs": [
    {
     "data": {
      "text/plain": [
       "[10, 20, [300, 400, [5000, 6000, 7000], 500], 30, 40]"
      ]
     },
     "execution_count": 91,
     "metadata": {},
     "output_type": "execute_result"
    }
   ],
   "source": [
    "lis=[10,20,[300,400,[5000,6000],500],30,40]\n",
    "lis[2][2].insert(2,7000)\n",
    "lis"
   ]
  },
  {
   "cell_type": "markdown",
   "id": "1ea218b8-fb54-4188-a839-fdf7fd141077",
   "metadata": {},
   "source": [
    "# tuple"
   ]
  },
  {
   "cell_type": "markdown",
   "id": "e6da950c-ea73-45a6-b5e0-0e42f761efe9",
   "metadata": {},
   "source": [
    "tuple is a immutable sequence of character\n"
   ]
  },
  {
   "cell_type": "markdown",
   "id": "bae4e0c2-d161-4926-b1c2-3bdf3b287a99",
   "metadata": {},
   "source": [
    "are indexed"
   ]
  },
  {
   "cell_type": "markdown",
   "id": "05efa4fa-e9c7-4bbe-9f33-eda89b1eaabb",
   "metadata": {},
   "source": [
    "item can't changed"
   ]
  },
  {
   "cell_type": "code",
   "execution_count": 95,
   "id": "40e22373-b639-4ab4-9e2f-90c3965da944",
   "metadata": {},
   "outputs": [
    {
     "data": {
      "text/plain": [
       "tuple"
      ]
     },
     "execution_count": 95,
     "metadata": {},
     "output_type": "execute_result"
    }
   ],
   "source": [
    "t=(1,23,4,5)\n",
    "type(t)\n"
   ]
  },
  {
   "cell_type": "code",
   "execution_count": 96,
   "id": "22c80313-3527-4fa4-9e97-63f66edc0050",
   "metadata": {},
   "outputs": [
    {
     "data": {
      "text/plain": [
       "(23, 4)"
      ]
     },
     "execution_count": 96,
     "metadata": {},
     "output_type": "execute_result"
    }
   ],
   "source": [
    "t=(1,23,4,5)\n",
    "t[1:3]"
   ]
  },
  {
   "cell_type": "code",
   "execution_count": 101,
   "id": "2ed5c5ef-512c-48ea-978a-b41b565b5bec",
   "metadata": {},
   "outputs": [
    {
     "data": {
      "text/plain": [
       "2"
      ]
     },
     "execution_count": 101,
     "metadata": {},
     "output_type": "execute_result"
    }
   ],
   "source": [
    "#count\n",
    "t=(1,23,4,5,34,23)\n",
    "t.count(23)\n",
    "\n"
   ]
  },
  {
   "cell_type": "code",
   "execution_count": 102,
   "id": "b07a5f94-ecd7-493e-9199-eb003bc6d3a0",
   "metadata": {},
   "outputs": [
    {
     "data": {
      "text/plain": [
       "1"
      ]
     },
     "execution_count": 102,
     "metadata": {},
     "output_type": "execute_result"
    }
   ],
   "source": [
    "t.index(23)"
   ]
  },
  {
   "cell_type": "markdown",
   "id": "eaadca9c-7054-4e43-9e02-340b5de6e290",
   "metadata": {},
   "source": [
    "# set"
   ]
  },
  {
   "cell_type": "markdown",
   "id": "d1c89462-3966-437d-aa51-55259d1a3b7d",
   "metadata": {},
   "source": [
    "it is a collection of items inside a {}\n"
   ]
  },
  {
   "cell_type": "markdown",
   "id": "ef14539b-a635-43d3-a49d-26bcc7746060",
   "metadata": {},
   "source": [
    "set items are unorderd"
   ]
  },
  {
   "cell_type": "markdown",
   "id": "74b1b2e0-779a-49bd-b375-0f5af9b20f88",
   "metadata": {},
   "source": [
    "don't allow duplicate values"
   ]
  },
  {
   "cell_type": "markdown",
   "id": "535c9e19-d18f-4868-8f17-0205c6039235",
   "metadata": {},
   "source": [
    "supports all mathematical opearation"
   ]
  },
  {
   "cell_type": "code",
   "execution_count": 104,
   "id": "b33b8738-cf6e-487c-a519-d76c0ceba56d",
   "metadata": {},
   "outputs": [
    {
     "name": "stdout",
     "output_type": "stream",
     "text": [
      "<class 'set'>\n"
     ]
    },
    {
     "data": {
      "text/plain": [
       "{1, 2, 3, 4, 5, 6, 7}"
      ]
     },
     "execution_count": 104,
     "metadata": {},
     "output_type": "execute_result"
    }
   ],
   "source": [
    "s={1,2,3,4,5,6,7}\n",
    "print(type(s))\n",
    "s"
   ]
  },
  {
   "cell_type": "code",
   "execution_count": 106,
   "id": "266f1059-a6fc-4fe1-9157-97cf0e11fd2a",
   "metadata": {},
   "outputs": [
    {
     "data": {
      "text/plain": [
       "{1, 2, 3, 4, 5, 8, 9, 19}"
      ]
     },
     "execution_count": 106,
     "metadata": {},
     "output_type": "execute_result"
    }
   ],
   "source": [
    "#union\n",
    "s1={1,2,3,4,5}\n",
    "s2={3,5,8,9,19}\n",
    "s1.union(s2)\n"
   ]
  },
  {
   "cell_type": "code",
   "execution_count": 107,
   "id": "52b1872d-1a0b-4ec8-aaac-9b8e2b283eb0",
   "metadata": {},
   "outputs": [
    {
     "data": {
      "text/plain": [
       "{3, 5}"
      ]
     },
     "execution_count": 107,
     "metadata": {},
     "output_type": "execute_result"
    }
   ],
   "source": [
    "#intersection\n",
    "s1={1,2,3,4,5}\n",
    "s2={3,5,8,9,19}\n",
    "s1.intersection(s2)\n"
   ]
  },
  {
   "cell_type": "code",
   "execution_count": 111,
   "id": "7611eb7a-e5d8-424b-9591-27415d834136",
   "metadata": {},
   "outputs": [
    {
     "name": "stdout",
     "output_type": "stream",
     "text": [
      "{1, 2, 4}\n",
      "{8, 9, 19}\n"
     ]
    }
   ],
   "source": [
    "#difference\n",
    "s1={1,2,3,4,5}\n",
    "s2={3,5,8,9,19}\n",
    "print(s1.difference(s2))\n",
    "print(s2.difference(s1))"
   ]
  },
  {
   "cell_type": "code",
   "execution_count": 116,
   "id": "74d2eef8-9f5f-4b60-bb3d-d72f60f61425",
   "metadata": {},
   "outputs": [
    {
     "name": "stdout",
     "output_type": "stream",
     "text": [
      "True\n",
      "False\n"
     ]
    }
   ],
   "source": [
    "#issubset\n",
    "s1={1,2,3,4,5}\n",
    "s2={3,5}\n",
    "print(s2.issubset(s1))\n",
    "print(s2.issuperset(s1))\n"
   ]
  },
  {
   "cell_type": "code",
   "execution_count": 120,
   "id": "53f7824e-f59e-4482-bee8-3393bc6bc018",
   "metadata": {},
   "outputs": [
    {
     "data": {
      "text/plain": [
       "{1, 2, 3, 4, 5, 30}"
      ]
     },
     "execution_count": 120,
     "metadata": {},
     "output_type": "execute_result"
    }
   ],
   "source": [
    "#add()\n",
    "s1={1,2,3,4,5}\n",
    "s2={3,5,8,9,19}\n",
    "s1.add(30)\n",
    "s1"
   ]
  },
  {
   "cell_type": "code",
   "execution_count": 121,
   "id": "017ea9a7-de90-46ee-b90d-a6dc55c5ecfb",
   "metadata": {},
   "outputs": [
    {
     "data": {
      "text/plain": [
       "{1, 2, 3, 4}"
      ]
     },
     "execution_count": 121,
     "metadata": {},
     "output_type": "execute_result"
    }
   ],
   "source": [
    "#discard()\n",
    "s1={1,2,3,4,5}\n",
    "s2={3,5,8,9,19}\n",
    "s1.discard(5)\n",
    "s1\n"
   ]
  },
  {
   "cell_type": "code",
   "execution_count": 4,
   "id": "5c524aa4-8c5c-4582-a840-4dd409bc02e9",
   "metadata": {},
   "outputs": [
    {
     "data": {
      "text/plain": [
       "set()"
      ]
     },
     "execution_count": 4,
     "metadata": {},
     "output_type": "execute_result"
    }
   ],
   "source": [
    "#clear()\n",
    "s1={1,2,3,4,5}\n",
    "s2={3,5,8,9,19}\n",
    "s1.clear()\n",
    "s1"
   ]
  },
  {
   "cell_type": "markdown",
   "id": "7ed05070-9865-44b3-a16a-d54f48e5168e",
   "metadata": {},
   "source": [
    "# dictionary"
   ]
  },
  {
   "cell_type": "markdown",
   "id": "3b37e720-83db-4f5c-a46a-ba340fa95e91",
   "metadata": {},
   "source": [
    "it is a collection of paired (key:value) elements enclosed within{}\n"
   ]
  },
  {
   "cell_type": "code",
   "execution_count": 8,
   "id": "4ffde727-e94c-4e02-bbeb-d204d2b35d71",
   "metadata": {},
   "outputs": [
    {
     "name": "stdout",
     "output_type": "stream",
     "text": [
      "<class 'dict'>\n"
     ]
    },
    {
     "data": {
      "text/plain": [
       "{1: 'abhi', 2: 'rahul', 3: 'nikhil', 4: {2: 34, 4: 44}}"
      ]
     },
     "execution_count": 8,
     "metadata": {},
     "output_type": "execute_result"
    }
   ],
   "source": [
    "dict={\n",
    "    1:\"abhi\",\n",
    "    2:'rahul',\n",
    "    3:'nikhil'\n",
    "\n",
    "}\n",
    "print(type(dict))\n",
    "dict[1]\n",
    "dict2={\n",
    "    2:34,\n",
    "    4:44\n",
    "}\n",
    "dict[4]=dict2\n",
    "dict"
   ]
  },
  {
   "cell_type": "code",
   "execution_count": 9,
   "id": "37ce85be-6816-484f-85d5-d66c7dab0c3d",
   "metadata": {},
   "outputs": [
    {
     "data": {
      "text/plain": [
       "dict_keys([1, 2, 3, 4])"
      ]
     },
     "execution_count": 9,
     "metadata": {},
     "output_type": "execute_result"
    }
   ],
   "source": [
    "#keys()\n",
    "dict.keys()"
   ]
  },
  {
   "cell_type": "code",
   "execution_count": 10,
   "id": "86301e4d-cee3-41d6-bffb-4a2fb77caa53",
   "metadata": {},
   "outputs": [
    {
     "data": {
      "text/plain": [
       "dict_values(['abhi', 'rahul', 'nikhil', {2: 34, 4: 44}])"
      ]
     },
     "execution_count": 10,
     "metadata": {},
     "output_type": "execute_result"
    }
   ],
   "source": [
    "#values\n",
    "dict.values()"
   ]
  },
  {
   "cell_type": "code",
   "execution_count": 11,
   "id": "ec8068fe-7926-49a5-9dbf-31824660e636",
   "metadata": {},
   "outputs": [
    {
     "data": {
      "text/plain": [
       "{1: 'abhi', 2: 'rahul', 3: 'nikhil', 4: 'roll'}"
      ]
     },
     "execution_count": 11,
     "metadata": {},
     "output_type": "execute_result"
    }
   ],
   "source": [
    "#update\n",
    "dict={\n",
    "    1:\"abhi\",\n",
    "    2:'rahul',\n",
    "    3:'nikhil'\n",
    "\n",
    "}\n",
    "dict.update({4:\"roll\"})\n",
    "dict"
   ]
  },
  {
   "cell_type": "code",
   "execution_count": 12,
   "id": "19bf49cc-f193-4ae1-b640-04800de1ec9a",
   "metadata": {},
   "outputs": [
    {
     "data": {
      "text/plain": [
       "{1: 'aditya', 2: 'rahul', 3: 'nikhil', 4: 'roll'}"
      ]
     },
     "execution_count": 12,
     "metadata": {},
     "output_type": "execute_result"
    }
   ],
   "source": [
    "dict[1]=\"aditya\"\n",
    "dict"
   ]
  },
  {
   "cell_type": "code",
   "execution_count": 13,
   "id": "e4d4bb38-48b1-478c-9342-4a1e98bac742",
   "metadata": {},
   "outputs": [
    {
     "data": {
      "text/plain": [
       "{1: 'ramesh', 2: 'rahul', 3: 'nikhil', 4: 'roll'}"
      ]
     },
     "execution_count": 13,
     "metadata": {},
     "output_type": "execute_result"
    }
   ],
   "source": [
    "dict.update({1:\"ramesh\"})\n",
    "dict"
   ]
  },
  {
   "cell_type": "code",
   "execution_count": 15,
   "id": "a653e84c-3edf-4fac-b1d8-42835e4e2be8",
   "metadata": {},
   "outputs": [
    {
     "data": {
      "text/plain": [
       "{}"
      ]
     },
     "execution_count": 15,
     "metadata": {},
     "output_type": "execute_result"
    }
   ],
   "source": [
    "#clear\n",
    "dict.clear()\n",
    "dict"
   ]
  },
  {
   "cell_type": "code",
   "execution_count": null,
   "id": "21b071e8-5186-4b6b-bc1a-2c3db6509c24",
   "metadata": {},
   "outputs": [],
   "source": []
  },
  {
   "cell_type": "code",
   "execution_count": null,
   "id": "571daf89-17ba-4411-a471-bcbe4f63ae64",
   "metadata": {},
   "outputs": [],
   "source": []
  },
  {
   "cell_type": "code",
   "execution_count": null,
   "id": "8878d5a0-294a-4a9b-abaf-4a7eccae0ca2",
   "metadata": {},
   "outputs": [],
   "source": []
  },
  {
   "cell_type": "code",
   "execution_count": null,
   "id": "452cfdee-69d2-4509-be54-49dd77b04c5e",
   "metadata": {},
   "outputs": [],
   "source": []
  },
  {
   "cell_type": "code",
   "execution_count": null,
   "id": "d5f51f1e-35a1-4c91-999d-e9eea09ca16a",
   "metadata": {},
   "outputs": [],
   "source": []
  }
 ],
 "metadata": {
  "kernelspec": {
   "display_name": "Python 3 (ipykernel)",
   "language": "python",
   "name": "python3"
  },
  "language_info": {
   "codemirror_mode": {
    "name": "ipython",
    "version": 3
   },
   "file_extension": ".py",
   "mimetype": "text/x-python",
   "name": "python",
   "nbconvert_exporter": "python",
   "pygments_lexer": "ipython3",
   "version": "3.12.7"
  }
 },
 "nbformat": 4,
 "nbformat_minor": 5
}
